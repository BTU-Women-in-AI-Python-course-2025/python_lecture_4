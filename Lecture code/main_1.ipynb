{
 "cells": [
  {
   "cell_type": "code",
   "execution_count": 1,
   "id": "initial_id",
   "metadata": {
    "ExecuteTime": {
     "end_time": "2025-08-13T15:39:22.224734Z",
     "start_time": "2025-08-13T15:39:22.221087Z"
    },
    "collapsed": true
   },
   "outputs": [
    {
     "name": "stdout",
     "output_type": "stream",
     "text": [
      "['apple', 'banana', 'cherry']\n"
     ]
    }
   ],
   "source": [
    "this_list = [\"apple\", \"banana\", \"cherry\"]\n",
    "print(this_list)"
   ]
  },
  {
   "cell_type": "code",
   "execution_count": 2,
   "id": "ad7dac7f0a7e146b",
   "metadata": {
    "ExecuteTime": {
     "end_time": "2025-08-13T15:40:35.975703Z",
     "start_time": "2025-08-13T15:40:35.970024Z"
    },
    "collapsed": false
   },
   "outputs": [
    {
     "name": "stdout",
     "output_type": "stream",
     "text": [
      "['apple', 'banana', 'cherry', 'apple', 'cherry']\n"
     ]
    }
   ],
   "source": [
    "this_list = [\"apple\", \"banana\", \"cherry\", \"apple\", \"cherry\"]\n",
    "print(this_list)"
   ]
  },
  {
   "cell_type": "code",
   "execution_count": 4,
   "id": "9982f87c0456d2df",
   "metadata": {
    "ExecuteTime": {
     "end_time": "2025-08-13T15:41:28.401803Z",
     "start_time": "2025-08-13T15:41:28.394153Z"
    },
    "collapsed": false
   },
   "outputs": [
    {
     "name": "stdout",
     "output_type": "stream",
     "text": [
      "6\n"
     ]
    }
   ],
   "source": [
    "this_list = [\"apple\", \"banana\", \"cherry\", \"cherry\", \"apple\", \"cherry\"]\n",
    "print(len(this_list))"
   ]
  },
  {
   "cell_type": "code",
   "execution_count": null,
   "id": "da78fd4867a6779",
   "metadata": {
    "collapsed": false
   },
   "outputs": [],
   "source": [
    "list1 = [\"apple\", \"banana\", \"cherry\"]\n",
    "list2 = [1, 5, 7, 9, 3]\n",
    "list3 = [True, False, False]"
   ]
  },
  {
   "cell_type": "code",
   "execution_count": 5,
   "id": "a4eb39a9616252c4",
   "metadata": {
    "ExecuteTime": {
     "end_time": "2025-08-13T15:42:28.936404Z",
     "start_time": "2025-08-13T15:42:28.930858Z"
    },
    "collapsed": false
   },
   "outputs": [
    {
     "name": "stdout",
     "output_type": "stream",
     "text": [
      "['abc', 34, True, 40, 'male', ['apple', 'banana', 'cherry']]\n"
     ]
    }
   ],
   "source": [
    "list_1 = [\"abc\", 34, True, 40, \"male\", [\"apple\", \"banana\", \"cherry\"]]\n",
    "print(list_1)"
   ]
  },
  {
   "cell_type": "code",
   "execution_count": 6,
   "id": "91e4e0ab5820982d",
   "metadata": {
    "ExecuteTime": {
     "end_time": "2025-08-13T15:42:50.691962Z",
     "start_time": "2025-08-13T15:42:50.688175Z"
    },
    "collapsed": false
   },
   "outputs": [
    {
     "name": "stdout",
     "output_type": "stream",
     "text": [
      "<class 'list'>\n"
     ]
    }
   ],
   "source": [
    "mylist = [\"apple\", \"banana\", \"cherry\"]\n",
    "print(type(mylist))"
   ]
  },
  {
   "cell_type": "code",
   "execution_count": 8,
   "id": "836ebd6ab504eda8",
   "metadata": {
    "ExecuteTime": {
     "end_time": "2025-08-13T15:44:27.708176Z",
     "start_time": "2025-08-13T15:44:27.704202Z"
    },
    "collapsed": false
   },
   "outputs": [
    {
     "name": "stdout",
     "output_type": "stream",
     "text": [
      "('apple', 'banana', 'cherry')\n"
     ]
    }
   ],
   "source": [
    "this_list = list((\"apple\", \"banana\", \"cherry\"))\n",
    "print(this_list)"
   ]
  },
  {
   "cell_type": "code",
   "execution_count": 9,
   "id": "ea5f6602c283cb5e",
   "metadata": {
    "ExecuteTime": {
     "end_time": "2025-08-13T15:45:46.277395Z",
     "start_time": "2025-08-13T15:45:46.271650Z"
    },
    "collapsed": false
   },
   "outputs": [
    {
     "name": "stdout",
     "output_type": "stream",
     "text": [
      "<class 'list'>\n"
     ]
    }
   ],
   "source": [
    "this_list = []\n",
    "print(type(this_list))"
   ]
  },
  {
   "cell_type": "code",
   "execution_count": 14,
   "id": "e93f61e46222a0b3",
   "metadata": {
    "ExecuteTime": {
     "end_time": "2025-08-13T15:47:08.432742Z",
     "start_time": "2025-08-13T15:47:08.428917Z"
    },
    "collapsed": false
   },
   "outputs": [
    {
     "name": "stdout",
     "output_type": "stream",
     "text": [
      "cherry\n"
     ]
    }
   ],
   "source": [
    "this_list = [\"apple\", \"banana\", \"cherry\"]\n",
    "print(this_list[2])"
   ]
  },
  {
   "cell_type": "code",
   "execution_count": 19,
   "id": "1a979001726f5cb9",
   "metadata": {
    "ExecuteTime": {
     "end_time": "2025-08-13T15:48:30.368363Z",
     "start_time": "2025-08-13T15:48:30.363309Z"
    },
    "collapsed": false
   },
   "outputs": [
    {
     "name": "stdout",
     "output_type": "stream",
     "text": [
      "cherry\n"
     ]
    }
   ],
   "source": [
    "this_list = [\"apple\", \"banana\", \"cherry\"]\n",
    "print(this_list[-1])"
   ]
  },
  {
   "cell_type": "code",
   "execution_count": 20,
   "id": "e6d0d468702d5fc5",
   "metadata": {
    "ExecuteTime": {
     "end_time": "2025-08-13T15:48:52.724699Z",
     "start_time": "2025-08-13T15:48:52.711132Z"
    },
    "collapsed": false
   },
   "outputs": [
    {
     "name": "stdout",
     "output_type": "stream",
     "text": [
      "['cherry', 'orange', 'kiwi']\n"
     ]
    }
   ],
   "source": [
    "this_list = [\"apple\", \"banana\", \"cherry\", \"orange\", \"kiwi\", \"melon\", \"mango\"]\n",
    "print(this_list[2:5])"
   ]
  },
  {
   "cell_type": "code",
   "execution_count": 21,
   "id": "4688cb88980e0b3",
   "metadata": {
    "ExecuteTime": {
     "end_time": "2025-08-13T15:49:51.053075Z",
     "start_time": "2025-08-13T15:49:51.045265Z"
    },
    "collapsed": false
   },
   "outputs": [
    {
     "name": "stdout",
     "output_type": "stream",
     "text": [
      "['apple', 'banana', 'cherry', 'orange']\n"
     ]
    }
   ],
   "source": [
    "this_list = [\"apple\", \"banana\", \"cherry\", \"orange\", \"kiwi\", \"melon\", \"mango\"]\n",
    "print(this_list[:4])"
   ]
  },
  {
   "cell_type": "code",
   "execution_count": 22,
   "id": "414083770fc955bd",
   "metadata": {
    "ExecuteTime": {
     "end_time": "2025-08-13T15:50:14.828222Z",
     "start_time": "2025-08-13T15:50:14.822016Z"
    },
    "collapsed": false
   },
   "outputs": [
    {
     "name": "stdout",
     "output_type": "stream",
     "text": [
      "['cherry', 'orange', 'kiwi', 'melon', 'mango']\n"
     ]
    }
   ],
   "source": [
    "this_list = [\"apple\", \"banana\", \"cherry\", \"orange\", \"kiwi\", \"melon\", \"mango\"]\n",
    "print(this_list[2:])"
   ]
  },
  {
   "cell_type": "code",
   "execution_count": 23,
   "id": "f41dbcac10f8881a",
   "metadata": {
    "ExecuteTime": {
     "end_time": "2025-08-13T15:50:52.754276Z",
     "start_time": "2025-08-13T15:50:52.746947Z"
    },
    "collapsed": false
   },
   "outputs": [
    {
     "name": "stdout",
     "output_type": "stream",
     "text": [
      "['orange', 'kiwi', 'melon']\n"
     ]
    }
   ],
   "source": [
    "this_list = [\"apple\", \"banana\", \"cherry\", \"orange\", \"kiwi\", \"melon\", \"mango\"]\n",
    "print(this_list[-4:-1])"
   ]
  },
  {
   "cell_type": "code",
   "execution_count": 24,
   "id": "146e959dc4038f86",
   "metadata": {
    "ExecuteTime": {
     "end_time": "2025-08-13T15:51:49.256576Z",
     "start_time": "2025-08-13T15:51:49.247049Z"
    },
    "collapsed": false
   },
   "outputs": [
    {
     "name": "stdout",
     "output_type": "stream",
     "text": [
      "['orange', 'kiwi', 'melon', 'mango']\n"
     ]
    }
   ],
   "source": [
    "this_list = [\"apple\", \"banana\", \"cherry\", \"orange\", \"kiwi\", \"melon\", \"mango\"]\n",
    "print(this_list[-4:])"
   ]
  },
  {
   "cell_type": "code",
   "execution_count": 25,
   "id": "f17edade6b53eb72",
   "metadata": {
    "ExecuteTime": {
     "end_time": "2025-08-13T15:52:00.844717Z",
     "start_time": "2025-08-13T15:52:00.841412Z"
    },
    "collapsed": false
   },
   "outputs": [
    {
     "name": "stdout",
     "output_type": "stream",
     "text": [
      "['apple', 'banana', 'cherry', 'orange', 'kiwi']\n"
     ]
    }
   ],
   "source": [
    "this_list = [\"apple\", \"banana\", \"cherry\", \"orange\", \"kiwi\", \"melon\", \"mango\"]\n",
    "print(this_list[:-2])"
   ]
  },
  {
   "cell_type": "code",
   "execution_count": 27,
   "id": "619c7c50ea0fe9f7",
   "metadata": {
    "ExecuteTime": {
     "end_time": "2025-08-13T15:52:52.939720Z",
     "start_time": "2025-08-13T15:52:52.936825Z"
    },
    "collapsed": false
   },
   "outputs": [],
   "source": [
    "this_list = [\"apple\", \"banana\", \"cherry\"]\n",
    "if \"apple\" in this_list:\n",
    "  print(\"Yes, 'apple' is in the fruits list\")"
   ]
  },
  {
   "cell_type": "code",
   "execution_count": 28,
   "id": "871bec73a2eb65af",
   "metadata": {
    "ExecuteTime": {
     "end_time": "2025-08-13T15:54:07.650497Z",
     "start_time": "2025-08-13T15:54:07.643951Z"
    },
    "collapsed": false
   },
   "outputs": [
    {
     "name": "stdout",
     "output_type": "stream",
     "text": [
      "['apple', 'banana', 'cherry']\n",
      "['apple', 'blackcurrant', 'cherry']\n"
     ]
    }
   ],
   "source": [
    "this_list = [\"apple\", \"banana\", \"cherry\"]\n",
    "print(this_list)\n",
    "this_list[1] = \"blackcurrant\"\n",
    "print(this_list)"
   ]
  },
  {
   "cell_type": "code",
   "execution_count": 29,
   "id": "b8af5fbc1749b749",
   "metadata": {
    "ExecuteTime": {
     "end_time": "2025-08-13T15:55:26.268504Z",
     "start_time": "2025-08-13T15:55:26.261677Z"
    },
    "collapsed": false
   },
   "outputs": [
    {
     "name": "stdout",
     "output_type": "stream",
     "text": [
      "['apple', 'banana', 'cherry', 'orange', 'kiwi', 'mango']\n",
      "['apple', 'blackcurrant', 'watermelon', 'orange', 'kiwi', 'mango']\n"
     ]
    }
   ],
   "source": [
    "this_list = [\"apple\", \"banana\", \"cherry\", \"orange\", \"kiwi\", \"mango\"]\n",
    "print(this_list)\n",
    "this_list[1:3] = [\"blackcurrant\", \"watermelon\"]\n",
    "print(this_list)"
   ]
  },
  {
   "cell_type": "code",
   "execution_count": 30,
   "id": "16505c68246c8d9f",
   "metadata": {
    "ExecuteTime": {
     "end_time": "2025-08-13T15:56:10.899628Z",
     "start_time": "2025-08-13T15:56:10.892155Z"
    },
    "collapsed": false
   },
   "outputs": [
    {
     "name": "stdout",
     "output_type": "stream",
     "text": [
      "['apple', 'banana', 'cherry']\n",
      "['apple', 'watermelon']\n"
     ]
    }
   ],
   "source": [
    "this_list = [\"apple\", \"banana\", \"cherry\"]\n",
    "print(this_list)\n",
    "this_list[1:3] = [\"watermelon\"]\n",
    "print(this_list)"
   ]
  },
  {
   "cell_type": "code",
   "execution_count": 31,
   "id": "ab50c55c924d9f67",
   "metadata": {
    "ExecuteTime": {
     "end_time": "2025-08-13T15:56:42.863014Z",
     "start_time": "2025-08-13T15:56:42.860529Z"
    },
    "collapsed": false
   },
   "outputs": [
    {
     "name": "stdout",
     "output_type": "stream",
     "text": [
      "['apple', 'banana', 'cherry']\n",
      "['apple', 'watermelon', 'blackcurrant', 'watermelon']\n"
     ]
    }
   ],
   "source": [
    "this_list = [\"apple\", \"banana\", \"cherry\"]\n",
    "print(this_list)\n",
    "this_list[1:3] = [\"watermelon\", \"blackcurrant\", \"watermelon\"]\n",
    "print(this_list)"
   ]
  },
  {
   "cell_type": "code",
   "execution_count": 32,
   "id": "9bf75423d06af02b",
   "metadata": {
    "ExecuteTime": {
     "end_time": "2025-08-13T15:57:55.832777Z",
     "start_time": "2025-08-13T15:57:55.826846Z"
    },
    "collapsed": false
   },
   "outputs": [
    {
     "name": "stdout",
     "output_type": "stream",
     "text": [
      "['apple', 'banana', 'cherry']\n",
      "['apple', 'banana', 'watermelon', 'cherry']\n"
     ]
    }
   ],
   "source": [
    "this_list = [\"apple\", \"banana\", \"cherry\"]\n",
    "print(this_list)\n",
    "this_list.insert(2, \"watermelon\")\n",
    "print(this_list)"
   ]
  },
  {
   "cell_type": "code",
   "execution_count": 33,
   "id": "54910e7aa306e048",
   "metadata": {
    "ExecuteTime": {
     "end_time": "2025-08-13T16:00:16.602658Z",
     "start_time": "2025-08-13T16:00:16.597325Z"
    },
    "collapsed": false
   },
   "outputs": [
    {
     "name": "stdout",
     "output_type": "stream",
     "text": [
      "['apple', 'banana', 'watermelon', 'mango', 'cherry']\n"
     ]
    }
   ],
   "source": [
    "this_list = [\"apple\", \"banana\", \"cherry\"]\n",
    "this_list[2:2] = [\"watermelon\", \"mango\"]  # inserts at index 2\n",
    "print(this_list)"
   ]
  },
  {
   "cell_type": "code",
   "execution_count": 34,
   "id": "c417feefa841dab8",
   "metadata": {
    "ExecuteTime": {
     "end_time": "2025-08-13T16:01:15.212215Z",
     "start_time": "2025-08-13T16:01:15.206922Z"
    },
    "collapsed": false
   },
   "outputs": [
    {
     "name": "stdout",
     "output_type": "stream",
     "text": [
      "['apple', 'banana', 'cherry', 'orange']\n"
     ]
    }
   ],
   "source": [
    "this_list = [\"apple\", \"banana\", \"cherry\"]\n",
    "this_list.append(\"orange\")\n",
    "print(this_list)"
   ]
  },
  {
   "cell_type": "code",
   "execution_count": 35,
   "id": "31e2048d0e20672c",
   "metadata": {
    "ExecuteTime": {
     "end_time": "2025-08-13T16:02:34.459027Z",
     "start_time": "2025-08-13T16:02:34.452727Z"
    },
    "collapsed": false
   },
   "outputs": [
    {
     "name": "stdout",
     "output_type": "stream",
     "text": [
      "['apple', 'banana', 'cherry', 'mango', 'pineapple', 'papaya']\n"
     ]
    }
   ],
   "source": [
    "this_list = [\"apple\", \"banana\", \"cherry\"]\n",
    "tropical = [\"mango\", \"pineapple\", \"papaya\"]\n",
    "this_list.extend(tropical)\n",
    "print(this_list)"
   ]
  },
  {
   "cell_type": "code",
   "execution_count": 37,
   "id": "4d990ebd821ce091",
   "metadata": {
    "ExecuteTime": {
     "end_time": "2025-08-13T16:03:17.593673Z",
     "start_time": "2025-08-13T16:03:17.589724Z"
    },
    "collapsed": false
   },
   "outputs": [
    {
     "name": "stdout",
     "output_type": "stream",
     "text": [
      "['mango', 'pineapple', 'papaya', 'apple', 'banana', 'cherry']\n"
     ]
    }
   ],
   "source": [
    "this_list = [\"apple\", \"banana\", \"cherry\"]\n",
    "tropical = [\"mango\", \"pineapple\", \"papaya\"]\n",
    "tropical.extend(this_list)\n",
    "print(tropical)"
   ]
  },
  {
   "cell_type": "code",
   "execution_count": 38,
   "id": "23e7d53dd1671b24",
   "metadata": {
    "ExecuteTime": {
     "end_time": "2025-08-13T16:04:14.171532Z",
     "start_time": "2025-08-13T16:04:14.167044Z"
    },
    "collapsed": false
   },
   "outputs": [
    {
     "name": "stdout",
     "output_type": "stream",
     "text": [
      "['apple', 'banana', 'cherry', 'kiwi', 'orange']\n"
     ]
    }
   ],
   "source": [
    "this_list = [\"apple\", \"banana\", \"cherry\"]\n",
    "this_tuple = (\"kiwi\", \"orange\")\n",
    "this_list.extend(this_tuple)\n",
    "print(this_list)"
   ]
  },
  {
   "cell_type": "code",
   "execution_count": 39,
   "id": "8eb2a85176ddceca",
   "metadata": {
    "ExecuteTime": {
     "end_time": "2025-08-13T16:04:48.629072Z",
     "start_time": "2025-08-13T16:04:48.619168Z"
    },
    "collapsed": false
   },
   "outputs": [
    {
     "name": "stdout",
     "output_type": "stream",
     "text": [
      "['apple', 'cherry']\n"
     ]
    }
   ],
   "source": [
    "this_list = [\"apple\", \"banana\", \"cherry\"]\n",
    "this_list.remove(\"banana\")\n",
    "print(this_list)"
   ]
  },
  {
   "cell_type": "code",
   "execution_count": 41,
   "id": "882570bc362d14ee",
   "metadata": {
    "ExecuteTime": {
     "end_time": "2025-08-13T16:05:45.895628Z",
     "start_time": "2025-08-13T16:05:45.891600Z"
    },
    "collapsed": false
   },
   "outputs": [
    {
     "name": "stdout",
     "output_type": "stream",
     "text": [
      "None\n",
      "['apple', 'banana', 'cherry']\n"
     ]
    }
   ],
   "source": [
    "this_list = [\"apple\", \"banana\", \"banana\", \"cherry\"]\n",
    "a = this_list.remove(\"banana\")\n",
    "print(a)\n",
    "print(this_list)"
   ]
  },
  {
   "cell_type": "code",
   "execution_count": 42,
   "id": "a041985e27edcc3a",
   "metadata": {
    "ExecuteTime": {
     "end_time": "2025-08-13T16:06:34.804159Z",
     "start_time": "2025-08-13T16:06:34.799290Z"
    },
    "collapsed": false
   },
   "outputs": [
    {
     "name": "stdout",
     "output_type": "stream",
     "text": [
      "['apple', 'cherry']\n"
     ]
    }
   ],
   "source": [
    "this_list = [\"apple\", \"banana\", \"cherry\"]\n",
    "this_list.pop(1)\n",
    "print(this_list)"
   ]
  },
  {
   "cell_type": "code",
   "execution_count": 43,
   "id": "bb24f0eb08bcd0f2",
   "metadata": {
    "ExecuteTime": {
     "end_time": "2025-08-13T16:06:58.636821Z",
     "start_time": "2025-08-13T16:06:58.632188Z"
    },
    "collapsed": false
   },
   "outputs": [
    {
     "name": "stdout",
     "output_type": "stream",
     "text": [
      "['apple', 'banana']\n"
     ]
    }
   ],
   "source": [
    "this_list = [\"apple\", \"banana\", \"cherry\"]\n",
    "this_list.pop()\n",
    "print(this_list)"
   ]
  },
  {
   "cell_type": "code",
   "execution_count": 44,
   "id": "fddc57c5d4f859c",
   "metadata": {
    "ExecuteTime": {
     "end_time": "2025-08-13T16:07:55.584365Z",
     "start_time": "2025-08-13T16:07:55.578955Z"
    },
    "collapsed": false
   },
   "outputs": [
    {
     "name": "stdout",
     "output_type": "stream",
     "text": [
      "['banana', 'cherry']\n"
     ]
    }
   ],
   "source": [
    "this_list = [\"apple\", \"banana\", \"cherry\"]\n",
    "del this_list[0]\n",
    "print(this_list)"
   ]
  },
  {
   "cell_type": "code",
   "execution_count": 46,
   "id": "9756d1bef60620eb",
   "metadata": {
    "ExecuteTime": {
     "end_time": "2025-08-13T16:08:37.456285Z",
     "start_time": "2025-08-13T16:08:37.453855Z"
    },
    "collapsed": false
   },
   "outputs": [],
   "source": [
    "this_list = [\"apple\", \"banana\", \"cherry\"]\n",
    "del this_list"
   ]
  },
  {
   "cell_type": "code",
   "execution_count": 47,
   "id": "981edebb609f2635",
   "metadata": {
    "ExecuteTime": {
     "end_time": "2025-08-13T16:09:02.143726Z",
     "start_time": "2025-08-13T16:09:02.138409Z"
    },
    "collapsed": false
   },
   "outputs": [
    {
     "name": "stdout",
     "output_type": "stream",
     "text": [
      "[]\n"
     ]
    }
   ],
   "source": [
    "this_list = [\"apple\", \"banana\", \"cherry\"]\n",
    "this_list.clear()\n",
    "print(this_list)"
   ]
  },
  {
   "cell_type": "code",
   "execution_count": 48,
   "id": "d8808b3ede3c2793",
   "metadata": {
    "ExecuteTime": {
     "end_time": "2025-08-13T16:09:54.524264Z",
     "start_time": "2025-08-13T16:09:54.515180Z"
    },
    "collapsed": false
   },
   "outputs": [
    {
     "name": "stdout",
     "output_type": "stream",
     "text": [
      "apple\n",
      "banana\n",
      "cherry\n"
     ]
    }
   ],
   "source": [
    "this_list = [\"apple\", \"banana\", \"cherry\"]\n",
    "for x in this_list:\n",
    "  print(x)"
   ]
  },
  {
   "cell_type": "code",
   "execution_count": 49,
   "id": "c4a38dc8dec32d11",
   "metadata": {
    "ExecuteTime": {
     "end_time": "2025-08-13T16:10:53.904436Z",
     "start_time": "2025-08-13T16:10:53.899365Z"
    },
    "collapsed": false
   },
   "outputs": [
    {
     "name": "stdout",
     "output_type": "stream",
     "text": [
      "apple\n",
      "banana\n",
      "cherry\n"
     ]
    }
   ],
   "source": [
    "this_list = [\"apple\", \"banana\", \"cherry\"]\n",
    "for i in range(len(this_list)):\n",
    "  print(this_list[i])"
   ]
  },
  {
   "cell_type": "code",
   "execution_count": 50,
   "id": "ff83448e6bffef1f",
   "metadata": {
    "ExecuteTime": {
     "end_time": "2025-08-13T16:11:32.609849Z",
     "start_time": "2025-08-13T16:11:32.601965Z"
    },
    "collapsed": false
   },
   "outputs": [
    {
     "name": "stdout",
     "output_type": "stream",
     "text": [
      "apple\n",
      "banana\n",
      "cherry\n"
     ]
    }
   ],
   "source": [
    "this_list = [\"apple\", \"banana\", \"cherry\"]\n",
    "i = 0\n",
    "while i < len(this_list):\n",
    "  print(this_list[i])\n",
    "  i = i + 1"
   ]
  },
  {
   "cell_type": "code",
   "execution_count": 53,
   "id": "8d48a6b346b4e3ba",
   "metadata": {
    "ExecuteTime": {
     "end_time": "2025-08-13T16:13:57.608822Z",
     "start_time": "2025-08-13T16:13:57.599520Z"
    },
    "collapsed": false
   },
   "outputs": [
    {
     "name": "stdout",
     "output_type": "stream",
     "text": [
      "['apple', 'banana', 'cherry']\n"
     ]
    }
   ],
   "source": [
    "this_list = [\"apple\", \"banana\", \"cherry\"]\n",
    "print([x for x in this_list])"
   ]
  },
  {
   "cell_type": "code",
   "execution_count": 54,
   "id": "4b0a57ec8d7f0eb6",
   "metadata": {
    "ExecuteTime": {
     "end_time": "2025-08-13T16:14:48.833038Z",
     "start_time": "2025-08-13T16:14:48.824732Z"
    },
    "collapsed": false
   },
   "outputs": [
    {
     "name": "stdout",
     "output_type": "stream",
     "text": [
      "[25, 49, 100]\n"
     ]
    }
   ],
   "source": [
    "this_list = [5, 7, 10]\n",
    "print([x * x for x in this_list])"
   ]
  },
  {
   "cell_type": "code",
   "execution_count": 55,
   "id": "c41406c069ec2d72",
   "metadata": {
    "ExecuteTime": {
     "end_time": "2025-08-13T16:15:23.604935Z",
     "start_time": "2025-08-13T16:15:23.600254Z"
    },
    "collapsed": false
   },
   "outputs": [
    {
     "name": "stdout",
     "output_type": "stream",
     "text": [
      "['apple', 'banana', 'mango']\n"
     ]
    }
   ],
   "source": [
    "fruits = [\"apple\", \"banana\", \"cherry\", \"kiwi\", \"mango\"]\n",
    "new_list = [x for x in fruits if \"a\" in x]\n",
    "print(new_list)"
   ]
  },
  {
   "cell_type": "code",
   "execution_count": 56,
   "id": "1f82186a65a1ead8",
   "metadata": {
    "ExecuteTime": {
     "end_time": "2025-08-13T16:16:31.483551Z",
     "start_time": "2025-08-13T16:16:31.478936Z"
    },
    "collapsed": false
   },
   "outputs": [
    {
     "name": "stdout",
     "output_type": "stream",
     "text": [
      "['banana', 'kiwi', 'mango', 'orange', 'pineapple']\n"
     ]
    }
   ],
   "source": [
    "this_list = [\"orange\", \"mango\", \"kiwi\", \"pineapple\", \"banana\"]\n",
    "this_list.sort()\n",
    "print(this_list)"
   ]
  },
  {
   "cell_type": "code",
   "execution_count": 57,
   "id": "35ad26fc8cd291b5",
   "metadata": {
    "ExecuteTime": {
     "end_time": "2025-08-13T16:17:01.060031Z",
     "start_time": "2025-08-13T16:17:01.057142Z"
    },
    "collapsed": false
   },
   "outputs": [
    {
     "name": "stdout",
     "output_type": "stream",
     "text": [
      "['pineapple', 'orange', 'mango', 'kiwi', 'banana']\n"
     ]
    }
   ],
   "source": [
    "this_list = [\"orange\", \"mango\", \"kiwi\", \"pineapple\", \"banana\"]\n",
    "this_list.sort(reverse = True)\n",
    "print(this_list)"
   ]
  },
  {
   "cell_type": "code",
   "execution_count": 58,
   "id": "c7d8571a98ae10ac",
   "metadata": {
    "ExecuteTime": {
     "end_time": "2025-08-13T16:17:30.709348Z",
     "start_time": "2025-08-13T16:17:30.706297Z"
    },
    "collapsed": false
   },
   "outputs": [
    {
     "name": "stdout",
     "output_type": "stream",
     "text": [
      "[23, 50, 65, 82, 100]\n"
     ]
    }
   ],
   "source": [
    "this_list = [100, 50, 65, 82, 23]\n",
    "this_list.sort()\n",
    "print(this_list)"
   ]
  },
  {
   "cell_type": "code",
   "execution_count": 59,
   "id": "30c82fe083d12814",
   "metadata": {
    "ExecuteTime": {
     "end_time": "2025-08-13T16:17:55.499476Z",
     "start_time": "2025-08-13T16:17:55.496975Z"
    },
    "collapsed": false
   },
   "outputs": [
    {
     "name": "stdout",
     "output_type": "stream",
     "text": [
      "[100, 82, 65, 50, 23]\n"
     ]
    }
   ],
   "source": [
    "this_list = [100, 50, 65, 82, 23]\n",
    "this_list.sort(reverse = True)\n",
    "print(this_list)"
   ]
  },
  {
   "cell_type": "code",
   "execution_count": 60,
   "id": "57cbc85ee80edd90",
   "metadata": {
    "ExecuteTime": {
     "end_time": "2025-08-13T16:19:27.351207Z",
     "start_time": "2025-08-13T16:19:27.344903Z"
    },
    "collapsed": false
   },
   "outputs": [
    {
     "name": "stdout",
     "output_type": "stream",
     "text": [
      "['apple', 'banana', 'cherry']\n"
     ]
    }
   ],
   "source": [
    "this_list = [\"apple\", \"banana\", \"cherry\"]\n",
    "my_list = this_list.copy()\n",
    "print(my_list)"
   ]
  },
  {
   "cell_type": "code",
   "execution_count": 61,
   "id": "f6c26f761494ca1b",
   "metadata": {
    "ExecuteTime": {
     "end_time": "2025-08-13T16:20:29.236300Z",
     "start_time": "2025-08-13T16:20:29.231966Z"
    },
    "collapsed": false
   },
   "outputs": [
    {
     "name": "stdout",
     "output_type": "stream",
     "text": [
      "['apple', 'banana']\n",
      "['apple', 'banana', 'cherry']\n"
     ]
    }
   ],
   "source": [
    "this_list = [\"apple\", \"banana\", \"cherry\"]\n",
    "my_list = this_list.copy()\n",
    "my_list.pop()\n",
    "print(my_list)\n",
    "print(this_list)"
   ]
  },
  {
   "cell_type": "code",
   "execution_count": 62,
   "id": "72a1bf2e8545bca7",
   "metadata": {
    "ExecuteTime": {
     "end_time": "2025-08-13T16:20:41.785150Z",
     "start_time": "2025-08-13T16:20:41.783073Z"
    },
    "collapsed": false
   },
   "outputs": [
    {
     "name": "stdout",
     "output_type": "stream",
     "text": [
      "['apple', 'banana']\n",
      "['apple', 'banana']\n"
     ]
    }
   ],
   "source": [
    "this_list = [\"apple\", \"banana\", \"cherry\"]\n",
    "my_list = this_list\n",
    "my_list.pop()\n",
    "print(my_list)\n",
    "print(this_list)"
   ]
  },
  {
   "cell_type": "code",
   "execution_count": 65,
   "id": "361b7374233281f",
   "metadata": {
    "ExecuteTime": {
     "end_time": "2025-08-13T16:23:27.843987Z",
     "start_time": "2025-08-13T16:23:27.839168Z"
    },
    "collapsed": false
   },
   "outputs": [
    {
     "name": "stdout",
     "output_type": "stream",
     "text": [
      "['apple', 'banana', 'cherry']\n",
      "['apple', 'banana']\n"
     ]
    }
   ],
   "source": [
    "this_list = [\"apple\", \"banana\", \"cherry\"]\n",
    "mylist = list(this_list)\n",
    "mylist.pop()\n",
    "print(this_list)\n",
    "print(mylist)"
   ]
  },
  {
   "cell_type": "code",
   "execution_count": 66,
   "id": "edcefb938ad10fd6",
   "metadata": {
    "ExecuteTime": {
     "end_time": "2025-08-13T16:24:20.053499Z",
     "start_time": "2025-08-13T16:24:20.045489Z"
    },
    "collapsed": false
   },
   "outputs": [
    {
     "name": "stdout",
     "output_type": "stream",
     "text": [
      "['apple', 'banana', 'cherry']\n",
      "['apple', 'banana']\n"
     ]
    }
   ],
   "source": [
    "this_list = [\"apple\", \"banana\", \"cherry\"]\n",
    "mylist = this_list[:]\n",
    "mylist.pop()\n",
    "print(this_list)\n",
    "print(mylist)"
   ]
  },
  {
   "cell_type": "code",
   "execution_count": 67,
   "id": "184bd07413b1835d",
   "metadata": {
    "ExecuteTime": {
     "end_time": "2025-08-13T16:25:17.930692Z",
     "start_time": "2025-08-13T16:25:17.923462Z"
    },
    "collapsed": false
   },
   "outputs": [
    {
     "name": "stdout",
     "output_type": "stream",
     "text": [
      "['a', 'b', 'c', 1, 2, 3]\n"
     ]
    }
   ],
   "source": [
    "list1 = [\"a\", \"b\", \"c\"]\n",
    "list2 = [1, 2, 3]\n",
    "\n",
    "list3 = list1 + list2\n",
    "print(list3)"
   ]
  },
  {
   "cell_type": "code",
   "execution_count": 68,
   "id": "53e3539e02fad12",
   "metadata": {
    "ExecuteTime": {
     "end_time": "2025-08-13T16:25:50.940127Z",
     "start_time": "2025-08-13T16:25:50.937071Z"
    },
    "collapsed": false
   },
   "outputs": [
    {
     "name": "stdout",
     "output_type": "stream",
     "text": [
      "['a', 'b', 'c', 1, 2, 3]\n"
     ]
    }
   ],
   "source": [
    "list1 = [\"a\", \"b\" , \"c\"]\n",
    "list2 = [1, 2, 3]\n",
    "\n",
    "for x in list2:\n",
    "  list1.append(x)\n",
    "\n",
    "print(list1)"
   ]
  },
  {
   "cell_type": "code",
   "execution_count": 71,
   "id": "f36c2481fde3d4f2",
   "metadata": {
    "ExecuteTime": {
     "end_time": "2025-08-13T16:27:36.625059Z",
     "start_time": "2025-08-13T16:27:36.620015Z"
    },
    "collapsed": false
   },
   "outputs": [
    {
     "name": "stdout",
     "output_type": "stream",
     "text": [
      "2\n"
     ]
    }
   ],
   "source": [
    "fruits = ['apple', 'banana', 'cherry', 'cherry']\n",
    "x = fruits.count(\"cherry\")\n",
    "print(x)"
   ]
  },
  {
   "cell_type": "code",
   "execution_count": 72,
   "id": "cff998ee6eb563c2",
   "metadata": {
    "ExecuteTime": {
     "end_time": "2025-08-13T16:28:30.901431Z",
     "start_time": "2025-08-13T16:28:30.896860Z"
    },
    "collapsed": false
   },
   "outputs": [
    {
     "name": "stdout",
     "output_type": "stream",
     "text": [
      "2\n"
     ]
    }
   ],
   "source": [
    "fruits = ['apple', 'banana', 'cherry']\n",
    "x = fruits.index(\"cherry\")\n",
    "print(x)"
   ]
  },
  {
   "cell_type": "code",
   "execution_count": 73,
   "id": "53c3d1fa50e58f04",
   "metadata": {
    "ExecuteTime": {
     "end_time": "2025-08-13T16:28:47.519977Z",
     "start_time": "2025-08-13T16:28:47.517638Z"
    },
    "collapsed": false
   },
   "outputs": [
    {
     "name": "stdout",
     "output_type": "stream",
     "text": [
      "2\n"
     ]
    }
   ],
   "source": [
    "fruits = ['apple', 'banana', 'cherry', 'cherry']\n",
    "x = fruits.index(\"cherry\")\n",
    "print(x)"
   ]
  },
  {
   "cell_type": "code",
   "execution_count": 74,
   "id": "3f650edb85f3b1fc",
   "metadata": {
    "ExecuteTime": {
     "end_time": "2025-08-13T16:29:10.204943Z",
     "start_time": "2025-08-13T16:29:10.201008Z"
    },
    "collapsed": false
   },
   "outputs": [
    {
     "name": "stdout",
     "output_type": "stream",
     "text": [
      "['cherry', 'banana', 'apple']\n"
     ]
    }
   ],
   "source": [
    "fruits = ['apple', 'banana', 'cherry']\n",
    "fruits.reverse()\n",
    "print(fruits)"
   ]
  },
  {
   "cell_type": "code",
   "execution_count": 75,
   "id": "428327afa8d4f66e",
   "metadata": {
    "ExecuteTime": {
     "end_time": "2025-08-13T16:31:41.135459Z",
     "start_time": "2025-08-13T16:31:41.127409Z"
    },
    "collapsed": false
   },
   "outputs": [
    {
     "name": "stdout",
     "output_type": "stream",
     "text": [
      "('apple', 'banana', 'cherry')\n"
     ]
    }
   ],
   "source": [
    "this_tuple = (\"apple\", \"banana\", \"cherry\")\n",
    "print(this_tuple)"
   ]
  },
  {
   "cell_type": "code",
   "execution_count": 77,
   "id": "871f0c7285aa735",
   "metadata": {
    "ExecuteTime": {
     "end_time": "2025-08-13T16:36:54.952166Z",
     "start_time": "2025-08-13T16:36:54.948197Z"
    },
    "collapsed": false
   },
   "outputs": [
    {
     "name": "stdout",
     "output_type": "stream",
     "text": [
      "('apple', 'banana', 'cherry', 'apple', 'cherry')\n"
     ]
    }
   ],
   "source": [
    "this_tuple = (\"apple\", \"banana\", \"cherry\", \"apple\", \"cherry\")\n",
    "print(this_tuple)"
   ]
  },
  {
   "cell_type": "code",
   "execution_count": 78,
   "id": "f0b91866c6ad5bc4",
   "metadata": {
    "ExecuteTime": {
     "end_time": "2025-08-13T16:37:35.056683Z",
     "start_time": "2025-08-13T16:37:35.052503Z"
    },
    "collapsed": false
   },
   "outputs": [
    {
     "name": "stdout",
     "output_type": "stream",
     "text": [
      "3\n"
     ]
    }
   ],
   "source": [
    "this_tuple = (\"apple\", \"banana\", \"cherry\")\n",
    "print(len(this_tuple))"
   ]
  },
  {
   "cell_type": "code",
   "execution_count": 79,
   "id": "25dbf3e408056d77",
   "metadata": {
    "ExecuteTime": {
     "end_time": "2025-08-13T16:38:22.867135Z",
     "start_time": "2025-08-13T16:38:22.860353Z"
    },
    "collapsed": false
   },
   "outputs": [
    {
     "name": "stdout",
     "output_type": "stream",
     "text": [
      "<class 'tuple'>\n",
      "<class 'str'>\n"
     ]
    }
   ],
   "source": [
    "this_tuple = (\"apple\",)\n",
    "print(type(this_tuple))\n",
    "\n",
    "#NOT a tuple\n",
    "this_tuple = (\"apple\")\n",
    "print(type(this_tuple))"
   ]
  },
  {
   "cell_type": "code",
   "execution_count": null,
   "id": "94fa8cef48e256f3",
   "metadata": {
    "collapsed": false
   },
   "outputs": [],
   "source": [
    "tuple1 = (\"apple\", \"banana\", \"cherry\")\n",
    "tuple2 = (1, 5, 7, 9, 3)\n",
    "tuple3 = (True, False, False)"
   ]
  },
  {
   "cell_type": "code",
   "execution_count": null,
   "id": "c2ca3dd91bdb181a",
   "metadata": {
    "collapsed": false
   },
   "outputs": [],
   "source": [
    "tuple1 = (\"abc\", 34, True, 40, \"male\")"
   ]
  },
  {
   "cell_type": "code",
   "execution_count": 81,
   "id": "9b0a7f38edc33177",
   "metadata": {
    "ExecuteTime": {
     "end_time": "2025-08-13T16:39:49.532229Z",
     "start_time": "2025-08-13T16:39:49.529550Z"
    },
    "collapsed": false
   },
   "outputs": [
    {
     "name": "stdout",
     "output_type": "stream",
     "text": [
      "('apple', 'banana', 'cherry')\n"
     ]
    }
   ],
   "source": [
    "this_tuple = tuple([\"apple\", \"banana\", \"cherry\"]) # note the double round-brackets\n",
    "print(this_tuple)"
   ]
  },
  {
   "cell_type": "code",
   "execution_count": 82,
   "id": "cbd5879e8b38b98a",
   "metadata": {
    "ExecuteTime": {
     "end_time": "2025-08-13T16:42:10.279168Z",
     "start_time": "2025-08-13T16:42:10.274473Z"
    },
    "collapsed": false
   },
   "outputs": [
    {
     "name": "stdout",
     "output_type": "stream",
     "text": [
      "banana\n"
     ]
    }
   ],
   "source": [
    "this_tuple = (\"apple\", \"banana\", \"cherry\")\n",
    "print(this_tuple[1])"
   ]
  },
  {
   "cell_type": "code",
   "execution_count": 83,
   "id": "a6c92a48b0fc93d",
   "metadata": {
    "ExecuteTime": {
     "end_time": "2025-08-13T16:42:12.895142Z",
     "start_time": "2025-08-13T16:42:12.891444Z"
    },
    "collapsed": false
   },
   "outputs": [
    {
     "name": "stdout",
     "output_type": "stream",
     "text": [
      "cherry\n"
     ]
    }
   ],
   "source": [
    "this_tuple = (\"apple\", \"banana\", \"cherry\")\n",
    "print(this_tuple[-1])"
   ]
  },
  {
   "cell_type": "code",
   "execution_count": 84,
   "id": "33ea8d9c59011aad",
   "metadata": {
    "ExecuteTime": {
     "end_time": "2025-08-13T16:42:16.042849Z",
     "start_time": "2025-08-13T16:42:16.040800Z"
    },
    "collapsed": false
   },
   "outputs": [
    {
     "name": "stdout",
     "output_type": "stream",
     "text": [
      "('cherry', 'orange', 'kiwi')\n"
     ]
    }
   ],
   "source": [
    "this_tuple = (\"apple\", \"banana\", \"cherry\", \"orange\", \"kiwi\", \"melon\", \"mango\")\n",
    "print(this_tuple[2:5])"
   ]
  },
  {
   "cell_type": "code",
   "execution_count": 85,
   "id": "df525a7cf0966962",
   "metadata": {
    "ExecuteTime": {
     "end_time": "2025-08-13T16:42:19.229401Z",
     "start_time": "2025-08-13T16:42:19.227216Z"
    },
    "collapsed": false
   },
   "outputs": [
    {
     "name": "stdout",
     "output_type": "stream",
     "text": [
      "('apple', 'banana', 'cherry', 'orange')\n"
     ]
    }
   ],
   "source": [
    "this_tuple = (\"apple\", \"banana\", \"cherry\", \"orange\", \"kiwi\", \"melon\", \"mango\")\n",
    "print(this_tuple[:4])"
   ]
  },
  {
   "cell_type": "code",
   "execution_count": 86,
   "id": "3d673e1176a93eba",
   "metadata": {
    "ExecuteTime": {
     "end_time": "2025-08-13T16:42:22.460594Z",
     "start_time": "2025-08-13T16:42:22.458568Z"
    },
    "collapsed": false
   },
   "outputs": [
    {
     "name": "stdout",
     "output_type": "stream",
     "text": [
      "('cherry', 'orange', 'kiwi', 'melon', 'mango')\n"
     ]
    }
   ],
   "source": [
    "this_tuple = (\"apple\", \"banana\", \"cherry\", \"orange\", \"kiwi\", \"melon\", \"mango\")\n",
    "print(this_tuple[2:])"
   ]
  },
  {
   "cell_type": "code",
   "execution_count": 87,
   "id": "bf4b08a2bc313153",
   "metadata": {
    "ExecuteTime": {
     "end_time": "2025-08-13T16:42:26.524418Z",
     "start_time": "2025-08-13T16:42:26.521324Z"
    },
    "collapsed": false
   },
   "outputs": [
    {
     "name": "stdout",
     "output_type": "stream",
     "text": [
      "('orange', 'kiwi', 'melon')\n"
     ]
    }
   ],
   "source": [
    "this_tuple = (\"apple\", \"banana\", \"cherry\", \"orange\", \"kiwi\", \"melon\", \"mango\")\n",
    "print(this_tuple[-4:-1])"
   ]
  },
  {
   "cell_type": "code",
   "execution_count": 88,
   "id": "3d134527f0825c8c",
   "metadata": {
    "ExecuteTime": {
     "end_time": "2025-08-13T16:42:30.633636Z",
     "start_time": "2025-08-13T16:42:30.631134Z"
    },
    "collapsed": false
   },
   "outputs": [
    {
     "name": "stdout",
     "output_type": "stream",
     "text": [
      "Yes, 'apple' is in the fruits tuple\n"
     ]
    }
   ],
   "source": [
    "this_tuple = (\"apple\", \"banana\", \"cherry\")\n",
    "if \"apple\" in this_tuple:\n",
    "  print(\"Yes, 'apple' is in the fruits tuple\")"
   ]
  },
  {
   "cell_type": "code",
   "execution_count": 89,
   "id": "fafc5a724e53ada2",
   "metadata": {
    "ExecuteTime": {
     "end_time": "2025-08-13T16:43:13.356170Z",
     "start_time": "2025-08-13T16:43:13.347042Z"
    },
    "collapsed": false
   },
   "outputs": [
    {
     "name": "stdout",
     "output_type": "stream",
     "text": [
      "('apple', 'kiwi', 'cherry')\n"
     ]
    }
   ],
   "source": [
    "x = (\"apple\", \"banana\", \"cherry\")\n",
    "y = list(x)\n",
    "y[1] = \"kiwi\"\n",
    "x = tuple(y)\n",
    "\n",
    "print(x)"
   ]
  },
  {
   "cell_type": "code",
   "execution_count": 91,
   "id": "661ff95098beed36",
   "metadata": {
    "ExecuteTime": {
     "end_time": "2025-08-13T16:43:44.926201Z",
     "start_time": "2025-08-13T16:43:44.923773Z"
    },
    "collapsed": false
   },
   "outputs": [
    {
     "name": "stdout",
     "output_type": "stream",
     "text": [
      "('apple', 'banana', 'cherry', 'orange')\n"
     ]
    }
   ],
   "source": [
    "this_tuple = (\"apple\", \"banana\", \"cherry\")\n",
    "y = list(this_tuple)\n",
    "y.append(\"orange\")\n",
    "this_tuple = tuple(y)\n",
    "print(this_tuple)"
   ]
  },
  {
   "cell_type": "code",
   "execution_count": 92,
   "id": "4df20e62ebc16dba",
   "metadata": {
    "ExecuteTime": {
     "end_time": "2025-08-13T16:44:16.481859Z",
     "start_time": "2025-08-13T16:44:16.477566Z"
    },
    "collapsed": false
   },
   "outputs": [
    {
     "name": "stdout",
     "output_type": "stream",
     "text": [
      "('apple', 'banana', 'cherry', 'orange')\n"
     ]
    }
   ],
   "source": [
    "this_tuple = (\"apple\", \"banana\", \"cherry\")\n",
    "y = (\"orange\",)\n",
    "this_tuple += y\n",
    "\n",
    "print(this_tuple)"
   ]
  },
  {
   "cell_type": "markdown",
   "id": "5f323e30dc6a53be",
   "metadata": {
    "collapsed": false
   },
   "source": []
  },
  {
   "cell_type": "code",
   "execution_count": 93,
   "id": "bc0f19041bb73582",
   "metadata": {
    "ExecuteTime": {
     "end_time": "2025-08-13T16:46:51.521612Z",
     "start_time": "2025-08-13T16:46:51.518354Z"
    },
    "collapsed": false
   },
   "outputs": [
    {
     "name": "stdout",
     "output_type": "stream",
     "text": [
      "apple\n",
      "banana\n",
      "cherry\n"
     ]
    }
   ],
   "source": [
    "fruits = (\"apple\", \"banana\", \"cherry\")\n",
    "(green, yellow, red) = fruits\n",
    "\n",
    "print(green)\n",
    "print(yellow)\n",
    "print(red)"
   ]
  },
  {
   "cell_type": "code",
   "execution_count": 96,
   "id": "6025a6b80fe6b7b6",
   "metadata": {
    "ExecuteTime": {
     "end_time": "2025-08-13T16:47:48.040359Z",
     "start_time": "2025-08-13T16:47:48.036579Z"
    },
    "collapsed": false
   },
   "outputs": [
    {
     "name": "stdout",
     "output_type": "stream",
     "text": [
      "apple\n",
      "banana\n",
      "cherry\n",
      "['strawberry', 'raspberry']\n"
     ]
    }
   ],
   "source": [
    "fruits = (\"apple\", \"banana\", \"cherry\", \"strawberry\", \"raspberry\")\n",
    "\n",
    "(green, yellow, a, *red) = fruits\n",
    "\n",
    "print(green)\n",
    "print(yellow)\n",
    "print(a)\n",
    "print(red)"
   ]
  },
  {
   "cell_type": "code",
   "execution_count": 100,
   "id": "fbdbdfdeb998556e",
   "metadata": {
    "ExecuteTime": {
     "end_time": "2025-08-13T16:49:38.586298Z",
     "start_time": "2025-08-13T16:49:38.583371Z"
    },
    "collapsed": false
   },
   "outputs": [
    {
     "name": "stdout",
     "output_type": "stream",
     "text": [
      "apple\n",
      "['mango', 'papaya', 'pineapple']\n",
      "cherry\n"
     ]
    }
   ],
   "source": [
    "fruits = (\"apple\", \"mango\", \"papaya\", \"pineapple\", \"cherry\")\n",
    "\n",
    "(green, *tropic, red) = fruits\n",
    "\n",
    "print(green)\n",
    "print(tropic)\n",
    "print(red)"
   ]
  },
  {
   "cell_type": "code",
   "execution_count": 101,
   "id": "5793c2f3c7817ce6",
   "metadata": {
    "ExecuteTime": {
     "end_time": "2025-08-13T16:49:41.880945Z",
     "start_time": "2025-08-13T16:49:41.878535Z"
    },
    "collapsed": false
   },
   "outputs": [
    {
     "name": "stdout",
     "output_type": "stream",
     "text": [
      "['apple', 'mango', 'papaya']\n",
      "pineapple\n",
      "cherry\n"
     ]
    }
   ],
   "source": [
    "fruits = (\"apple\", \"mango\", \"papaya\", \"pineapple\", \"cherry\")\n",
    "\n",
    "(*green, tropic, red) = fruits\n",
    "\n",
    "print(green)\n",
    "print(tropic)\n",
    "print(red)"
   ]
  },
  {
   "cell_type": "code",
   "execution_count": 103,
   "id": "ae81cd532c65001e",
   "metadata": {
    "ExecuteTime": {
     "end_time": "2025-08-13T16:50:41.207796Z",
     "start_time": "2025-08-13T16:50:41.199977Z"
    },
    "collapsed": false
   },
   "outputs": [
    {
     "name": "stdout",
     "output_type": "stream",
     "text": [
      "apple\n",
      "banana\n",
      "cherry\n"
     ]
    }
   ],
   "source": [
    "this_tuple = (\"apple\", \"banana\", \"cherry\")\n",
    "for i in range(len(this_tuple)):\n",
    "  print(this_tuple[i])"
   ]
  },
  {
   "cell_type": "code",
   "execution_count": 104,
   "id": "417d818d51aa371",
   "metadata": {
    "ExecuteTime": {
     "end_time": "2025-08-13T16:51:15.625210Z",
     "start_time": "2025-08-13T16:51:15.621513Z"
    },
    "collapsed": false
   },
   "outputs": [
    {
     "name": "stdout",
     "output_type": "stream",
     "text": [
      "('a', 'b', 'c', 1, 2, 3)\n"
     ]
    }
   ],
   "source": [
    "tuple1 = (\"a\", \"b\" , \"c\")\n",
    "tuple2 = (1, 2, 3)\n",
    "\n",
    "tuple3 = tuple1 + tuple2\n",
    "print(tuple3)"
   ]
  },
  {
   "cell_type": "code",
   "execution_count": 105,
   "id": "3493d109cf41c0ee",
   "metadata": {
    "ExecuteTime": {
     "end_time": "2025-08-13T16:51:33.065712Z",
     "start_time": "2025-08-13T16:51:33.060587Z"
    },
    "collapsed": false
   },
   "outputs": [
    {
     "name": "stdout",
     "output_type": "stream",
     "text": [
      "('apple', 'banana', 'cherry', 'apple', 'banana', 'cherry')\n"
     ]
    }
   ],
   "source": [
    "fruits = (\"apple\", \"banana\", \"cherry\")\n",
    "my_tuple = fruits * 2\n",
    "\n",
    "print(my_tuple)"
   ]
  },
  {
   "cell_type": "code",
   "execution_count": 107,
   "id": "7392a28b238d94ff",
   "metadata": {
    "ExecuteTime": {
     "end_time": "2025-08-13T16:51:55.336157Z",
     "start_time": "2025-08-13T16:51:55.334067Z"
    },
    "collapsed": false
   },
   "outputs": [
    {
     "name": "stdout",
     "output_type": "stream",
     "text": [
      "('apple', 'banana', 'cherry', 'apple', 'banana', 'cherry', 'apple', 'banana', 'cherry')\n"
     ]
    }
   ],
   "source": [
    "fruits = (\"apple\", \"banana\", \"cherry\")\n",
    "my_tuple = fruits * 3\n",
    "\n",
    "print(my_tuple)"
   ]
  },
  {
   "cell_type": "code",
   "execution_count": 108,
   "id": "e373e01a8e7d0e14",
   "metadata": {
    "ExecuteTime": {
     "end_time": "2025-08-13T16:52:46.270287Z",
     "start_time": "2025-08-13T16:52:46.263769Z"
    },
    "collapsed": false
   },
   "outputs": [
    {
     "name": "stdout",
     "output_type": "stream",
     "text": [
      "3\n"
     ]
    }
   ],
   "source": [
    "this_tuple = (1, 3, 7, 8, 7, 5, 4, 6, 8, 5)\n",
    "x = this_tuple.index(8)\n",
    "print(x)"
   ]
  },
  {
   "cell_type": "code",
   "execution_count": 109,
   "id": "232fde25bc1b9992",
   "metadata": {
    "ExecuteTime": {
     "end_time": "2025-08-13T16:55:35.182383Z",
     "start_time": "2025-08-13T16:55:35.178839Z"
    },
    "collapsed": false
   },
   "outputs": [
    {
     "name": "stdout",
     "output_type": "stream",
     "text": [
      "{'apple', 'banana', 'cherry'}\n"
     ]
    }
   ],
   "source": [
    "this_set = {\"apple\", \"banana\", \"cherry\"}\n",
    "print(this_set)"
   ]
  },
  {
   "cell_type": "code",
   "execution_count": 121,
   "id": "c6b7ceff76748dd3",
   "metadata": {
    "ExecuteTime": {
     "end_time": "2025-08-13T16:58:53.590253Z",
     "start_time": "2025-08-13T16:58:53.583136Z"
    },
    "collapsed": false
   },
   "outputs": [
    {
     "name": "stdout",
     "output_type": "stream",
     "text": [
      "{'', 'apple', 'cherry', 1, False, 2, 'banana'}\n",
      "{'', 'apple', 'cherry', 1, False, 2, 'banana'}\n"
     ]
    }
   ],
   "source": [
    "this_set = {\"apple\", \"banana\", \"cherry\", 1, True, '', False, 0, 2}\n",
    "print(this_set)\n",
    "print(this_set)"
   ]
  },
  {
   "cell_type": "code",
   "execution_count": 124,
   "id": "f73bc03ad95354c",
   "metadata": {
    "ExecuteTime": {
     "end_time": "2025-08-13T17:00:48.945714Z",
     "start_time": "2025-08-13T17:00:48.942858Z"
    },
    "collapsed": false
   },
   "outputs": [
    {
     "name": "stdout",
     "output_type": "stream",
     "text": [
      "{False, 'apple', 'cherry', True, 'banana'}\n"
     ]
    }
   ],
   "source": [
    "this_set = {\"apple\", \"banana\", \"cherry\", False, True, 0}\n",
    "print(this_set)"
   ]
  },
  {
   "cell_type": "code",
   "execution_count": 125,
   "id": "1258ea84ab009efb",
   "metadata": {
    "ExecuteTime": {
     "end_time": "2025-08-13T17:02:12.049244Z",
     "start_time": "2025-08-13T17:02:12.044714Z"
    },
    "collapsed": false
   },
   "outputs": [
    {
     "name": "stdout",
     "output_type": "stream",
     "text": [
      "3\n"
     ]
    }
   ],
   "source": [
    "this_set = {\"apple\", \"banana\", \"cherry\"}\n",
    "print(len(this_set))"
   ]
  },
  {
   "cell_type": "code",
   "execution_count": 126,
   "id": "b74720052c325a60",
   "metadata": {
    "ExecuteTime": {
     "end_time": "2025-08-13T17:02:25.513743Z",
     "start_time": "2025-08-13T17:02:25.503775Z"
    },
    "collapsed": false
   },
   "outputs": [
    {
     "name": "stdout",
     "output_type": "stream",
     "text": [
      "3\n"
     ]
    }
   ],
   "source": [
    "this_set = {\"apple\", \"banana\", \"banana\", \"cherry\"}\n",
    "print(len(this_set))"
   ]
  },
  {
   "cell_type": "code",
   "execution_count": 127,
   "id": "9b893d7e96ccb9f8",
   "metadata": {
    "ExecuteTime": {
     "end_time": "2025-08-13T17:03:12.582185Z",
     "start_time": "2025-08-13T17:03:12.573739Z"
    },
    "collapsed": false
   },
   "outputs": [
    {
     "name": "stdout",
     "output_type": "stream",
     "text": [
      "<class 'set'>\n"
     ]
    }
   ],
   "source": [
    "my_set = {\"apple\", \"banana\", \"cherry\"}\n",
    "print(type(my_set))"
   ]
  },
  {
   "cell_type": "code",
   "execution_count": 129,
   "id": "73ba66c6aa81e606",
   "metadata": {
    "ExecuteTime": {
     "end_time": "2025-08-13T17:04:53.487345Z",
     "start_time": "2025-08-13T17:04:53.480732Z"
    },
    "collapsed": false
   },
   "outputs": [
    {
     "name": "stdout",
     "output_type": "stream",
     "text": [
      "{'apple', 'banana', 'cherry'}\n"
     ]
    }
   ],
   "source": [
    "this_set = set((\"apple\", \"banana\", \"banana\", \"cherry\")) \n",
    "print(this_set)"
   ]
  },
  {
   "cell_type": "code",
   "execution_count": 131,
   "id": "884b1fea5eff6b94",
   "metadata": {
    "ExecuteTime": {
     "end_time": "2025-08-13T17:05:45.279001Z",
     "start_time": "2025-08-13T17:05:45.274498Z"
    },
    "collapsed": false
   },
   "outputs": [
    {
     "name": "stdout",
     "output_type": "stream",
     "text": [
      "apple\n",
      "banana\n",
      "cherry\n"
     ]
    }
   ],
   "source": [
    "this_set = {\"apple\", \"banana\", \"cherry\"}\n",
    "for x in this_set:\n",
    "  print(x)"
   ]
  },
  {
   "cell_type": "code",
   "execution_count": 132,
   "id": "e04e8072070bc85e",
   "metadata": {
    "ExecuteTime": {
     "end_time": "2025-08-13T17:06:20.868285Z",
     "start_time": "2025-08-13T17:06:20.864567Z"
    },
    "collapsed": false
   },
   "outputs": [
    {
     "name": "stdout",
     "output_type": "stream",
     "text": [
      "True\n"
     ]
    }
   ],
   "source": [
    "this_set = {\"apple\", \"banana\", \"cherry\"}\n",
    "print(\"banana\" in this_set)"
   ]
  },
  {
   "cell_type": "code",
   "execution_count": 133,
   "id": "ab15383c2896f81c",
   "metadata": {
    "ExecuteTime": {
     "end_time": "2025-08-13T17:06:56.339941Z",
     "start_time": "2025-08-13T17:06:56.335660Z"
    },
    "collapsed": false
   },
   "outputs": [
    {
     "name": "stdout",
     "output_type": "stream",
     "text": [
      "{'apple', 'banana', 'orange', 'cherry'}\n"
     ]
    }
   ],
   "source": [
    "this_set = {\"apple\", \"banana\", \"cherry\"}\n",
    "this_set.add(\"orange\")\n",
    "print(this_set)"
   ]
  },
  {
   "cell_type": "code",
   "execution_count": 134,
   "id": "32884c3549a5d4d0",
   "metadata": {
    "ExecuteTime": {
     "end_time": "2025-08-13T17:07:07.020709Z",
     "start_time": "2025-08-13T17:07:07.018434Z"
    },
    "collapsed": false
   },
   "outputs": [
    {
     "name": "stdout",
     "output_type": "stream",
     "text": [
      "{'apple', 'banana', 'cherry'}\n"
     ]
    }
   ],
   "source": [
    "this_set = {\"apple\", \"banana\", \"cherry\"}\n",
    "this_set.add(\"banana\")\n",
    "print(this_set)"
   ]
  },
  {
   "cell_type": "code",
   "execution_count": 135,
   "id": "320c4d5071280afc",
   "metadata": {
    "ExecuteTime": {
     "end_time": "2025-08-13T17:07:43.714829Z",
     "start_time": "2025-08-13T17:07:43.707882Z"
    },
    "collapsed": false
   },
   "outputs": [
    {
     "name": "stdout",
     "output_type": "stream",
     "text": [
      "{'apple', 'banana', 'cherry', 'pineapple', 'papaya', 'mango'}\n"
     ]
    }
   ],
   "source": [
    "this_set = {\"apple\", \"banana\", \"cherry\"}\n",
    "tropical = {\"pineapple\", \"mango\", \"papaya\"}\n",
    "this_set.update(tropical)\n",
    "print(this_set)"
   ]
  },
  {
   "cell_type": "code",
   "execution_count": 136,
   "id": "865583cc6c8f8fa",
   "metadata": {
    "ExecuteTime": {
     "end_time": "2025-08-13T17:08:16.684462Z",
     "start_time": "2025-08-13T17:08:16.682121Z"
    },
    "collapsed": false
   },
   "outputs": [
    {
     "name": "stdout",
     "output_type": "stream",
     "text": [
      "{'apple', 'banana', 'cherry', 'pineapple', 'papaya'}\n"
     ]
    }
   ],
   "source": [
    "this_set = {\"apple\", \"banana\", \"cherry\"}\n",
    "tropical = {\"pineapple\", \"apple\", \"papaya\"}\n",
    "this_set.update(tropical)\n",
    "print(this_set)"
   ]
  },
  {
   "cell_type": "code",
   "execution_count": 137,
   "id": "9061dd81ea6739fb",
   "metadata": {
    "ExecuteTime": {
     "end_time": "2025-08-13T17:08:55.026272Z",
     "start_time": "2025-08-13T17:08:55.022434Z"
    },
    "collapsed": false
   },
   "outputs": [
    {
     "name": "stdout",
     "output_type": "stream",
     "text": [
      "{'apple', 'cherry', 'orange', 'banana', 'kiwi'}\n"
     ]
    }
   ],
   "source": [
    "this_set = {\"apple\", \"banana\", \"cherry\"}\n",
    "mylist = [\"kiwi\", \"orange\", \"banana\"]\n",
    "this_set.update(mylist)\n",
    "print(this_set)"
   ]
  },
  {
   "cell_type": "code",
   "execution_count": 138,
   "id": "3623b529e64597f2",
   "metadata": {
    "ExecuteTime": {
     "end_time": "2025-08-13T17:09:27.498025Z",
     "start_time": "2025-08-13T17:09:27.494675Z"
    },
    "collapsed": false
   },
   "outputs": [
    {
     "name": "stdout",
     "output_type": "stream",
     "text": [
      "{'apple', 'cherry'}\n"
     ]
    }
   ],
   "source": [
    "this_set = {\"apple\", \"banana\", \"cherry\"}\n",
    "this_set.remove(\"banana\")\n",
    "print(this_set)"
   ]
  },
  {
   "cell_type": "code",
   "execution_count": 143,
   "id": "d41af84b09ba53b",
   "metadata": {
    "ExecuteTime": {
     "end_time": "2025-08-13T17:11:06.087054Z",
     "start_time": "2025-08-13T17:11:06.082369Z"
    },
    "collapsed": false
   },
   "outputs": [
    {
     "name": "stdout",
     "output_type": "stream",
     "text": [
      "{'apple', 'cherry'}\n"
     ]
    }
   ],
   "source": [
    "this_set = {\"apple\", \"banana\", \"banana\", \"cherry\"}\n",
    "this_set.remove(\"banana\")\n",
    "print(this_set)"
   ]
  },
  {
   "cell_type": "code",
   "execution_count": 141,
   "id": "60a584a0518d512a",
   "metadata": {
    "ExecuteTime": {
     "end_time": "2025-08-13T17:10:26.505586Z",
     "start_time": "2025-08-13T17:10:26.502885Z"
    },
    "collapsed": false
   },
   "outputs": [
    {
     "name": "stdout",
     "output_type": "stream",
     "text": [
      "{'apple', 'banana', 'cherry'}\n"
     ]
    }
   ],
   "source": [
    "this_set = {\"apple\", \"banana\", \"cherry\"}\n",
    "this_set.discard(\"banana\")\n",
    "print(this_set)"
   ]
  },
  {
   "cell_type": "code",
   "execution_count": 144,
   "id": "aa3a9812d04f971e",
   "metadata": {
    "ExecuteTime": {
     "end_time": "2025-08-13T17:11:09.480360Z",
     "start_time": "2025-08-13T17:11:09.463981Z"
    },
    "collapsed": false
   },
   "outputs": [
    {
     "ename": "KeyError",
     "evalue": "'baana'",
     "output_type": "error",
     "traceback": [
      "\u001b[31m---------------------------------------------------------------------------\u001b[39m",
      "\u001b[31mKeyError\u001b[39m                                  Traceback (most recent call last)",
      "\u001b[36mCell\u001b[39m\u001b[36m \u001b[39m\u001b[32mIn[144]\u001b[39m\u001b[32m, line 2\u001b[39m\n\u001b[32m      1\u001b[39m this_set = {\u001b[33m\"\u001b[39m\u001b[33mapple\u001b[39m\u001b[33m\"\u001b[39m, \u001b[33m\"\u001b[39m\u001b[33mbanana\u001b[39m\u001b[33m\"\u001b[39m, \u001b[33m\"\u001b[39m\u001b[33mbanana\u001b[39m\u001b[33m\"\u001b[39m, \u001b[33m\"\u001b[39m\u001b[33mcherry\u001b[39m\u001b[33m\"\u001b[39m}\n\u001b[32m----> \u001b[39m\u001b[32m2\u001b[39m \u001b[43mthis_set\u001b[49m\u001b[43m.\u001b[49m\u001b[43mremove\u001b[49m\u001b[43m(\u001b[49m\u001b[33;43m\"\u001b[39;49m\u001b[33;43mbaana\u001b[39;49m\u001b[33;43m\"\u001b[39;49m\u001b[43m)\u001b[49m\n\u001b[32m      3\u001b[39m \u001b[38;5;28mprint\u001b[39m(this_set)\n",
      "\u001b[31mKeyError\u001b[39m: 'baana'"
     ]
    }
   ],
   "source": [
    "this_set = {\"apple\", \"banana\", \"banana\", \"cherry\"}\n",
    "this_set.remove(\"baana\")\n",
    "print(this_set)"
   ]
  },
  {
   "cell_type": "code",
   "execution_count": 146,
   "id": "be1d95480a6cf075",
   "metadata": {
    "ExecuteTime": {
     "end_time": "2025-08-13T17:11:44.321712Z",
     "start_time": "2025-08-13T17:11:44.319294Z"
    },
    "collapsed": false
   },
   "outputs": [
    {
     "name": "stdout",
     "output_type": "stream",
     "text": [
      "apple\n",
      "{'banana', 'cherry'}\n"
     ]
    }
   ],
   "source": [
    "this_set = {\"apple\", \"banana\", \"cherry\"}\n",
    "x = this_set.pop()\n",
    "print(x)\n",
    "print(this_set)"
   ]
  },
  {
   "cell_type": "code",
   "execution_count": 147,
   "id": "77b8f3404ff92128",
   "metadata": {
    "ExecuteTime": {
     "end_time": "2025-08-13T17:12:31.500943Z",
     "start_time": "2025-08-13T17:12:31.497226Z"
    },
    "collapsed": false
   },
   "outputs": [
    {
     "name": "stdout",
     "output_type": "stream",
     "text": [
      "set()\n"
     ]
    }
   ],
   "source": [
    "this_set = {\"apple\", \"banana\", \"cherry\"}\n",
    "this_set.clear()\n",
    "print(this_set)"
   ]
  },
  {
   "cell_type": "code",
   "execution_count": 148,
   "id": "4043efa297be494d",
   "metadata": {
    "ExecuteTime": {
     "end_time": "2025-08-13T17:12:53.819049Z",
     "start_time": "2025-08-13T17:12:53.796369Z"
    },
    "collapsed": false
   },
   "outputs": [
    {
     "ename": "NameError",
     "evalue": "name 'this_set' is not defined",
     "output_type": "error",
     "traceback": [
      "\u001b[31m---------------------------------------------------------------------------\u001b[39m",
      "\u001b[31mNameError\u001b[39m                                 Traceback (most recent call last)",
      "\u001b[36mCell\u001b[39m\u001b[36m \u001b[39m\u001b[32mIn[148]\u001b[39m\u001b[32m, line 3\u001b[39m\n\u001b[32m      1\u001b[39m this_set = {\u001b[33m\"\u001b[39m\u001b[33mapple\u001b[39m\u001b[33m\"\u001b[39m, \u001b[33m\"\u001b[39m\u001b[33mbanana\u001b[39m\u001b[33m\"\u001b[39m, \u001b[33m\"\u001b[39m\u001b[33mcherry\u001b[39m\u001b[33m\"\u001b[39m}\n\u001b[32m      2\u001b[39m \u001b[38;5;28;01mdel\u001b[39;00m this_set\n\u001b[32m----> \u001b[39m\u001b[32m3\u001b[39m \u001b[38;5;28mprint\u001b[39m(\u001b[43mthis_set\u001b[49m)\n",
      "\u001b[31mNameError\u001b[39m: name 'this_set' is not defined"
     ]
    }
   ],
   "source": [
    "this_set = {\"apple\", \"banana\", \"cherry\"}\n",
    "del this_set\n",
    "print(this_set)"
   ]
  },
  {
   "cell_type": "code",
   "execution_count": 152,
   "id": "99b540fa361f8f27",
   "metadata": {
    "ExecuteTime": {
     "end_time": "2025-08-13T17:14:35.440708Z",
     "start_time": "2025-08-13T17:14:35.438565Z"
    },
    "collapsed": false
   },
   "outputs": [
    {
     "name": "stdout",
     "output_type": "stream",
     "text": [
      "{'c', 1, 'b', 2, 3, 'a'}\n"
     ]
    }
   ],
   "source": [
    "set1 = {\"a\", \"b\", \"c\"}\n",
    "set2 = {1, 2, 3}\n",
    "\n",
    "set3 = set1.union(set2)\n",
    "print(set3)"
   ]
  },
  {
   "cell_type": "code",
   "execution_count": 153,
   "id": "73146e1400d17e0f",
   "metadata": {
    "ExecuteTime": {
     "end_time": "2025-08-13T17:15:08.066955Z",
     "start_time": "2025-08-13T17:15:08.062124Z"
    },
    "collapsed": false
   },
   "outputs": [
    {
     "name": "stdout",
     "output_type": "stream",
     "text": [
      "{'c', 1, 'b', 2, 3, 'a'}\n"
     ]
    }
   ],
   "source": [
    "set1 = {\"a\", \"b\", \"c\"}\n",
    "set2 = {1, 2, 3}\n",
    "\n",
    "set3 = set1 | set2\n",
    "print(set3)"
   ]
  },
  {
   "cell_type": "code",
   "execution_count": 154,
   "id": "48fd6cb0fa5397b4",
   "metadata": {
    "ExecuteTime": {
     "end_time": "2025-08-13T17:16:20.838464Z",
     "start_time": "2025-08-13T17:16:20.832066Z"
    },
    "collapsed": false
   },
   "outputs": [
    {
     "name": "stdout",
     "output_type": "stream",
     "text": [
      "{'c', 1, 2, 3, 'Elena', 'apple', 'cherry', 'a', 'b', 'John', 'bananas'}\n"
     ]
    }
   ],
   "source": [
    "set1 = {\"a\", \"b\", \"c\"}\n",
    "set2 = {1, 2, 3}\n",
    "set3 = {\"John\", \"Elena\"}\n",
    "set4 = {\"apple\", \"bananas\", \"cherry\"}\n",
    "\n",
    "my_set = set1.union(set2, set3, set4)\n",
    "print(my_set)"
   ]
  },
  {
   "cell_type": "code",
   "execution_count": 155,
   "id": "d94d308e097798d4",
   "metadata": {
    "ExecuteTime": {
     "end_time": "2025-08-13T17:16:43.072921Z",
     "start_time": "2025-08-13T17:16:43.064359Z"
    },
    "collapsed": false
   },
   "outputs": [
    {
     "name": "stdout",
     "output_type": "stream",
     "text": [
      "{'c', 1, 2, 3, 'Elena', 'apple', 'cherry', 'a', 'b', 'John', 'bananas'}\n"
     ]
    }
   ],
   "source": [
    "set1 = {\"a\", \"b\", \"c\"}\n",
    "set2 = {1, 2, 3}\n",
    "set3 = {\"John\", \"Elena\"}\n",
    "set4 = {\"apple\", \"bananas\", \"cherry\"}\n",
    "\n",
    "my_set = set1 | set2 | set3 |set4\n",
    "print(my_set)"
   ]
  },
  {
   "cell_type": "code",
   "execution_count": 156,
   "id": "7dff895214a787da",
   "metadata": {
    "ExecuteTime": {
     "end_time": "2025-08-13T17:17:30.863729Z",
     "start_time": "2025-08-13T17:17:30.860125Z"
    },
    "collapsed": false
   },
   "outputs": [
    {
     "name": "stdout",
     "output_type": "stream",
     "text": [
      "{'c', 2, 1, 3, 'a', 'b'}\n"
     ]
    }
   ],
   "source": [
    "x = {\"a\", \"b\", \"c\"}\n",
    "y = (1, 2, 3)\n",
    "\n",
    "z = x.union(y)\n",
    "print(z)"
   ]
  },
  {
   "cell_type": "code",
   "execution_count": 157,
   "id": "f1dccd93dbe66e34",
   "metadata": {
    "ExecuteTime": {
     "end_time": "2025-08-13T17:17:54.607940Z",
     "start_time": "2025-08-13T17:17:54.604406Z"
    },
    "collapsed": false
   },
   "outputs": [
    {
     "name": "stdout",
     "output_type": "stream",
     "text": [
      "{'c', 1, 'b', 2, 3, 'a'}\n"
     ]
    }
   ],
   "source": [
    "set1 = {\"a\", \"b\" , \"c\"}\n",
    "set2 = {1, 2, 3}\n",
    "\n",
    "set1.update(set2)\n",
    "print(set1)"
   ]
  },
  {
   "cell_type": "code",
   "execution_count": 159,
   "id": "b5a1ee9b6b5a2310",
   "metadata": {
    "ExecuteTime": {
     "end_time": "2025-08-13T17:18:47.228848Z",
     "start_time": "2025-08-13T17:18:47.223915Z"
    },
    "collapsed": false
   },
   "outputs": [
    {
     "name": "stdout",
     "output_type": "stream",
     "text": [
      "{'apple', 'banana'}\n"
     ]
    }
   ],
   "source": [
    "set1 = {\"apple\", \"banana\", \"cherry\"}\n",
    "set2 = {\"google\", \"microsoft\", \"apple\", \"banana\"}\n",
    "\n",
    "set3 = set1.intersection(set2)\n",
    "print(set3)"
   ]
  },
  {
   "cell_type": "code",
   "execution_count": 160,
   "id": "d8b06b5bcb62ecdc",
   "metadata": {
    "ExecuteTime": {
     "end_time": "2025-08-13T17:19:36.552051Z",
     "start_time": "2025-08-13T17:19:36.548511Z"
    },
    "collapsed": false
   },
   "outputs": [
    {
     "name": "stdout",
     "output_type": "stream",
     "text": [
      "{'apple'}\n"
     ]
    }
   ],
   "source": [
    "set1 = {\"apple\", \"banana\", \"cherry\"}\n",
    "set2 = {\"google\", \"microsoft\", \"apple\"}\n",
    "\n",
    "set3 = set1 & set2\n",
    "print(set3)"
   ]
  },
  {
   "cell_type": "code",
   "execution_count": 162,
   "id": "d48808c1611b2cd6",
   "metadata": {
    "ExecuteTime": {
     "end_time": "2025-08-13T17:20:20.542824Z",
     "start_time": "2025-08-13T17:20:20.534622Z"
    },
    "collapsed": false
   },
   "outputs": [
    {
     "name": "stdout",
     "output_type": "stream",
     "text": [
      "{'apple'}\n"
     ]
    }
   ],
   "source": [
    "set1 = {\"apple\", \"banana\", \"cherry\"}\n",
    "set2 = {\"google\", \"microsoft\", \"apple\"}\n",
    "\n",
    "set1.intersection_update(set2)\n",
    "\n",
    "print(set1)"
   ]
  },
  {
   "cell_type": "code",
   "execution_count": 163,
   "id": "dc96d1a73afd9505",
   "metadata": {
    "ExecuteTime": {
     "end_time": "2025-08-13T17:20:52.520485Z",
     "start_time": "2025-08-13T17:20:52.518120Z"
    },
    "collapsed": false
   },
   "outputs": [
    {
     "name": "stdout",
     "output_type": "stream",
     "text": [
      "{False, 1, 'apple'}\n"
     ]
    }
   ],
   "source": [
    "set1 = {\"apple\", 1,  \"banana\", 0, \"cherry\"}\n",
    "set2 = {False, \"google\", 1, \"apple\", 2, True}\n",
    "\n",
    "set3 = set1.intersection(set2)\n",
    "\n",
    "print(set3)"
   ]
  },
  {
   "cell_type": "code",
   "execution_count": 165,
   "id": "e5dcf0578f09bdbc",
   "metadata": {
    "ExecuteTime": {
     "end_time": "2025-08-13T17:22:25.132018Z",
     "start_time": "2025-08-13T17:22:25.124934Z"
    },
    "collapsed": false
   },
   "outputs": [
    {
     "name": "stdout",
     "output_type": "stream",
     "text": [
      "{'cherry', 'banana'}\n"
     ]
    }
   ],
   "source": [
    "set1 = {\"apple\", \"banana\", \"cherry\"}\n",
    "set2 = {\"google\", \"microsoft\", \"apple\"}\n",
    "\n",
    "set3 = set1.difference(set2)\n",
    "\n",
    "print(set3)"
   ]
  },
  {
   "cell_type": "code",
   "execution_count": 166,
   "id": "89c03d94e653d659",
   "metadata": {
    "ExecuteTime": {
     "end_time": "2025-08-13T17:23:13.501065Z",
     "start_time": "2025-08-13T17:23:13.490585Z"
    },
    "collapsed": false
   },
   "outputs": [
    {
     "name": "stdout",
     "output_type": "stream",
     "text": [
      "{'microsoft', 'google'}\n"
     ]
    }
   ],
   "source": [
    "set1 = {\"apple\", \"banana\", \"cherry\"}\n",
    "set2 = {\"google\", \"microsoft\", \"apple\"}\n",
    "\n",
    "set3 = set2.difference(set1)\n",
    "\n",
    "print(set3)"
   ]
  },
  {
   "cell_type": "code",
   "execution_count": 167,
   "id": "82afc78480dce974",
   "metadata": {
    "ExecuteTime": {
     "end_time": "2025-08-13T17:23:23.599734Z",
     "start_time": "2025-08-13T17:23:23.596182Z"
    },
    "collapsed": false
   },
   "outputs": [
    {
     "name": "stdout",
     "output_type": "stream",
     "text": [
      "{'cherry', 'banana'}\n"
     ]
    }
   ],
   "source": [
    "set1 = {\"apple\", \"banana\", \"cherry\"}\n",
    "set2 = {\"google\", \"microsoft\", \"apple\"}\n",
    "\n",
    "set3 = set1 - set2\n",
    "print(set3)"
   ]
  },
  {
   "cell_type": "code",
   "execution_count": 168,
   "id": "e326d855fdf6b1da",
   "metadata": {
    "ExecuteTime": {
     "end_time": "2025-08-13T17:23:36.503258Z",
     "start_time": "2025-08-13T17:23:36.493881Z"
    },
    "collapsed": false
   },
   "outputs": [
    {
     "name": "stdout",
     "output_type": "stream",
     "text": [
      "{'banana', 'cherry'}\n"
     ]
    }
   ],
   "source": [
    "set1 = {\"apple\", \"banana\", \"cherry\"}\n",
    "set2 = {\"google\", \"microsoft\", \"apple\"}\n",
    "set1.difference_update(set2)\n",
    "\n",
    "print(set1)"
   ]
  },
  {
   "cell_type": "code",
   "execution_count": 169,
   "id": "44321ca601e89aa1",
   "metadata": {
    "ExecuteTime": {
     "end_time": "2025-08-13T17:23:54.407926Z",
     "start_time": "2025-08-13T17:23:54.400977Z"
    },
    "collapsed": false
   },
   "outputs": [
    {
     "name": "stdout",
     "output_type": "stream",
     "text": [
      "{'cherry', 'banana', 'microsoft', 'google'}\n"
     ]
    }
   ],
   "source": [
    "set1 = {\"apple\", \"banana\", \"cherry\"}\n",
    "set2 = {\"google\", \"microsoft\", \"apple\"}\n",
    "\n",
    "set3 = set1.symmetric_difference(set2)\n",
    "\n",
    "print(set3)"
   ]
  },
  {
   "cell_type": "code",
   "execution_count": 170,
   "id": "b7148a3253571d09",
   "metadata": {
    "ExecuteTime": {
     "end_time": "2025-08-13T17:24:09.594319Z",
     "start_time": "2025-08-13T17:24:09.590813Z"
    },
    "collapsed": false
   },
   "outputs": [
    {
     "name": "stdout",
     "output_type": "stream",
     "text": [
      "{'cherry', 'banana', 'microsoft', 'google'}\n"
     ]
    }
   ],
   "source": [
    "set1 = {\"apple\", \"banana\", \"cherry\"}\n",
    "set2 = {\"google\", \"microsoft\", \"apple\"}\n",
    "\n",
    "set3 = set1 ^ set2\n",
    "print(set3)"
   ]
  },
  {
   "cell_type": "code",
   "execution_count": 171,
   "id": "b029115f9677dbe0",
   "metadata": {
    "ExecuteTime": {
     "end_time": "2025-08-13T17:24:23.106366Z",
     "start_time": "2025-08-13T17:24:23.102808Z"
    },
    "collapsed": false
   },
   "outputs": [
    {
     "name": "stdout",
     "output_type": "stream",
     "text": [
      "{'cherry', 'microsoft', 'google', 'banana'}\n"
     ]
    }
   ],
   "source": [
    "set1 = {\"apple\", \"banana\", \"cherry\"}\n",
    "set2 = {\"google\", \"microsoft\", \"apple\"}\n",
    "\n",
    "set1.symmetric_difference_update(set2)\n",
    "\n",
    "print(set1)"
   ]
  },
  {
   "cell_type": "code",
   "execution_count": 172,
   "id": "a97d0fb388e889e6",
   "metadata": {
    "ExecuteTime": {
     "end_time": "2025-08-13T17:27:17.638991Z",
     "start_time": "2025-08-13T17:27:17.634874Z"
    },
    "collapsed": false
   },
   "outputs": [
    {
     "name": "stdout",
     "output_type": "stream",
     "text": [
      "{'brand': 'Ford', 'model': 'Mustang', 'year': 1964}\n"
     ]
    }
   ],
   "source": [
    "this_dict = {\n",
    "  \"brand\": \"Ford\",\n",
    "  \"model\": \"Mustang\",\n",
    "  \"year\": 1964\n",
    "}\n",
    "print(this_dict)"
   ]
  },
  {
   "cell_type": "code",
   "execution_count": 173,
   "id": "76f2f1631f2b68b2",
   "metadata": {
    "ExecuteTime": {
     "end_time": "2025-08-13T17:27:49.637521Z",
     "start_time": "2025-08-13T17:27:49.634152Z"
    },
    "collapsed": false
   },
   "outputs": [
    {
     "name": "stdout",
     "output_type": "stream",
     "text": [
      "Ford\n",
      "Mustang\n"
     ]
    }
   ],
   "source": [
    "this_dict = {\n",
    "  \"brand\": \"Ford\",\n",
    "  \"model\": \"Mustang\",\n",
    "  \"year\": 1964\n",
    "}\n",
    "print(this_dict[\"brand\"])\n",
    "print(this_dict[\"model\"])"
   ]
  },
  {
   "cell_type": "code",
   "execution_count": 175,
   "id": "81ac4092572d1f92",
   "metadata": {
    "ExecuteTime": {
     "end_time": "2025-08-13T17:28:29.357043Z",
     "start_time": "2025-08-13T17:28:29.351753Z"
    },
    "collapsed": false
   },
   "outputs": [
    {
     "name": "stdout",
     "output_type": "stream",
     "text": [
      "2020\n"
     ]
    }
   ],
   "source": [
    "this_dict = {\n",
    "  \"brand\": \"Ford\",\n",
    "  \"model\": \"Mustang\",\n",
    "  \"year\": 1964,\n",
    "  \"year\": 2020\n",
    "}\n",
    "print(this_dict[\"year\"])"
   ]
  },
  {
   "cell_type": "code",
   "execution_count": 176,
   "id": "62a1dc368fd85bf8",
   "metadata": {
    "ExecuteTime": {
     "end_time": "2025-08-13T17:29:11.854694Z",
     "start_time": "2025-08-13T17:29:11.848207Z"
    },
    "collapsed": false
   },
   "outputs": [
    {
     "name": "stdout",
     "output_type": "stream",
     "text": [
      "2020\n"
     ]
    }
   ],
   "source": [
    "year = 1964\n",
    "year = 2020\n",
    "print(year)"
   ]
  },
  {
   "cell_type": "code",
   "execution_count": 177,
   "id": "8d37c9e536021cfe",
   "metadata": {
    "ExecuteTime": {
     "end_time": "2025-08-13T17:29:39.431117Z",
     "start_time": "2025-08-13T17:29:39.424600Z"
    },
    "collapsed": false
   },
   "outputs": [
    {
     "name": "stdout",
     "output_type": "stream",
     "text": [
      "3\n"
     ]
    }
   ],
   "source": [
    "print(len(this_dict))"
   ]
  },
  {
   "cell_type": "code",
   "execution_count": null,
   "id": "1364f49a6e4d88dd",
   "metadata": {
    "collapsed": false
   },
   "outputs": [],
   "source": [
    "this_dict = {\n",
    "  \"brand\": \"Ford\",\n",
    "  \"electric\": False,\n",
    "  \"year\": 1964,\n",
    "  \"colors\": [\"red\", \"white\", \"blue\"]\n",
    "}"
   ]
  },
  {
   "cell_type": "code",
   "execution_count": 178,
   "id": "66a2080864de8da0",
   "metadata": {
    "ExecuteTime": {
     "end_time": "2025-08-13T17:30:41.486906Z",
     "start_time": "2025-08-13T17:30:41.481754Z"
    },
    "collapsed": false
   },
   "outputs": [
    {
     "name": "stdout",
     "output_type": "stream",
     "text": [
      "<class 'dict'>\n"
     ]
    }
   ],
   "source": [
    "this_dict = {\n",
    "  \"brand\": \"Ford\",\n",
    "  \"model\": \"Mustang\",\n",
    "  \"year\": 1964\n",
    "}\n",
    "print(type(this_dict))"
   ]
  },
  {
   "cell_type": "code",
   "execution_count": 179,
   "id": "f34aa8d0964c279a",
   "metadata": {
    "ExecuteTime": {
     "end_time": "2025-08-13T17:31:14.407098Z",
     "start_time": "2025-08-13T17:31:14.403540Z"
    },
    "collapsed": false
   },
   "outputs": [
    {
     "name": "stdout",
     "output_type": "stream",
     "text": [
      "{'name': 'John', 'age': 36, 'country': 'Norway'}\n"
     ]
    }
   ],
   "source": [
    "this_dict = dict(\n",
    "  name = \"John\", \n",
    "  age = 36, \n",
    "  country = \"Norway\"\n",
    ")\n",
    "print(this_dict)"
   ]
  },
  {
   "cell_type": "code",
   "execution_count": 182,
   "id": "b895ec0eae1e861a",
   "metadata": {
    "ExecuteTime": {
     "end_time": "2025-08-13T17:32:42.964976Z",
     "start_time": "2025-08-13T17:32:42.959424Z"
    },
    "collapsed": false
   },
   "outputs": [
    {
     "name": "stdout",
     "output_type": "stream",
     "text": [
      "John\n"
     ]
    }
   ],
   "source": [
    "x = this_dict.get(\"nae\", \"John\")\n",
    "print(x)"
   ]
  },
  {
   "cell_type": "code",
   "execution_count": 184,
   "id": "127b79f3cf01521b",
   "metadata": {
    "ExecuteTime": {
     "end_time": "2025-08-13T17:33:56.701615Z",
     "start_time": "2025-08-13T17:33:56.696305Z"
    },
    "collapsed": false
   },
   "outputs": [
    {
     "name": "stdout",
     "output_type": "stream",
     "text": [
      "dict_keys(['name', 'age', 'country'])\n"
     ]
    }
   ],
   "source": [
    "x = this_dict.keys()\n",
    "print(x)"
   ]
  },
  {
   "cell_type": "code",
   "execution_count": 185,
   "id": "1bd2baa51a6aef8",
   "metadata": {
    "ExecuteTime": {
     "end_time": "2025-08-13T17:34:39.329651Z",
     "start_time": "2025-08-13T17:34:39.326321Z"
    },
    "collapsed": false
   },
   "outputs": [
    {
     "name": "stdout",
     "output_type": "stream",
     "text": [
      "dict_values(['John', 36, 'Norway'])\n"
     ]
    }
   ],
   "source": [
    "x = this_dict.values()\n",
    "print(x)"
   ]
  },
  {
   "cell_type": "code",
   "execution_count": 186,
   "id": "81bd237f4fa0b7c3",
   "metadata": {
    "ExecuteTime": {
     "end_time": "2025-08-13T17:34:52.416273Z",
     "start_time": "2025-08-13T17:34:52.412657Z"
    },
    "collapsed": false
   },
   "outputs": [
    {
     "name": "stdout",
     "output_type": "stream",
     "text": [
      "dict_items([('name', 'John'), ('age', 36), ('country', 'Norway')])\n"
     ]
    }
   ],
   "source": [
    "x = this_dict.items()\n",
    "print(x)"
   ]
  },
  {
   "cell_type": "code",
   "execution_count": 187,
   "id": "e9ef68dd51d33c16",
   "metadata": {
    "ExecuteTime": {
     "end_time": "2025-08-13T17:35:49.431890Z",
     "start_time": "2025-08-13T17:35:49.428642Z"
    },
    "collapsed": false
   },
   "outputs": [
    {
     "name": "stdout",
     "output_type": "stream",
     "text": [
      "Yes, 'model' is one of the keys in the thisdict dictionary\n"
     ]
    }
   ],
   "source": [
    "thisdict = {\n",
    "  \"brand\": \"Ford\",\n",
    "  \"model\": \"Mustang\",\n",
    "  \"year\": 1964\n",
    "}\n",
    "if \"model\" in thisdict:\n",
    "  print(\"Yes, 'model' is one of the keys in the thisdict dictionary\")"
   ]
  },
  {
   "cell_type": "code",
   "execution_count": 192,
   "id": "1fe7b5bcdcd17a8c",
   "metadata": {
    "ExecuteTime": {
     "end_time": "2025-08-13T17:38:15.899194Z",
     "start_time": "2025-08-13T17:38:15.892525Z"
    },
    "collapsed": false
   },
   "outputs": [
    {
     "name": "stdout",
     "output_type": "stream",
     "text": [
      "{'brand': 'BMW', 'model': 'Mustang', 'year': 2018, 'mariami': 'Kipshidze'}\n"
     ]
    }
   ],
   "source": [
    "this_dict = {\n",
    "  \"brand\": \"Ford\",\n",
    "  \"model\": \"Mustang\",\n",
    "  \"year\": 1964\n",
    "}\n",
    "this_dict[\"year\"] = 2018\n",
    "this_dict[\"brand\"] = \"BMW\"\n",
    "this_dict[\"mariami\"] = \"Kipshidze\"\n",
    "print(this_dict)"
   ]
  },
  {
   "cell_type": "code",
   "execution_count": 191,
   "id": "a44bb8828336a8ed",
   "metadata": {
    "ExecuteTime": {
     "end_time": "2025-08-13T17:37:50.955533Z",
     "start_time": "2025-08-13T17:37:50.943565Z"
    },
    "collapsed": false
   },
   "outputs": [
    {
     "name": "stdout",
     "output_type": "stream",
     "text": [
      "{'brand': 'Ford', 'model': 'Mustang', 'year': 2020}\n"
     ]
    }
   ],
   "source": [
    "this_dict = {\n",
    "  \"brand\": \"Ford\",\n",
    "  \"model\": \"Mustang\",\n",
    "  \"year\": 1964\n",
    "}\n",
    "this_dict.update({\"year\": 2020})\n",
    "print(this_dict)"
   ]
  },
  {
   "cell_type": "code",
   "execution_count": 193,
   "id": "36c3db617504ede9",
   "metadata": {
    "ExecuteTime": {
     "end_time": "2025-08-13T17:38:43.979951Z",
     "start_time": "2025-08-13T17:38:43.971438Z"
    },
    "collapsed": false
   },
   "outputs": [
    {
     "name": "stdout",
     "output_type": "stream",
     "text": [
      "{'brand': 'Ford', 'model': 'Mustang', 'year': 1964, 'mariam': 'Kipshidze'}\n"
     ]
    }
   ],
   "source": [
    "this_dict = {\n",
    "  \"brand\": \"Ford\",\n",
    "  \"model\": \"Mustang\",\n",
    "  \"year\": 1964\n",
    "}\n",
    "this_dict.update({\"mariam\": \"Kipshidze\"})\n",
    "print(this_dict)"
   ]
  },
  {
   "cell_type": "code",
   "execution_count": 195,
   "id": "5ebce2d70a7fbba1",
   "metadata": {
    "ExecuteTime": {
     "end_time": "2025-08-13T17:39:57.674678Z",
     "start_time": "2025-08-13T17:39:57.668052Z"
    },
    "collapsed": false
   },
   "outputs": [
    {
     "name": "stdout",
     "output_type": "stream",
     "text": [
      "{'brand': 'Ford', 'year': 1964}\n"
     ]
    }
   ],
   "source": [
    "this_dict = {\n",
    "  \"brand\": \"Ford\",\n",
    "  \"model\": \"Mustang\",\n",
    "  \"year\": 1964\n",
    "}\n",
    "this_dict.pop(\"model\")\n",
    "print(this_dict)"
   ]
  },
  {
   "cell_type": "code",
   "execution_count": 196,
   "id": "7a22a62aade6188b",
   "metadata": {
    "ExecuteTime": {
     "end_time": "2025-08-13T17:40:00.481522Z",
     "start_time": "2025-08-13T17:40:00.461477Z"
    },
    "collapsed": false
   },
   "outputs": [
    {
     "ename": "TypeError",
     "evalue": "pop expected at least 1 argument, got 0",
     "output_type": "error",
     "traceback": [
      "\u001b[31m---------------------------------------------------------------------------\u001b[39m",
      "\u001b[31mTypeError\u001b[39m                                 Traceback (most recent call last)",
      "\u001b[36mCell\u001b[39m\u001b[36m \u001b[39m\u001b[32mIn[196]\u001b[39m\u001b[32m, line 6\u001b[39m\n\u001b[32m      1\u001b[39m this_dict = {\n\u001b[32m      2\u001b[39m   \u001b[33m\"\u001b[39m\u001b[33mbrand\u001b[39m\u001b[33m\"\u001b[39m: \u001b[33m\"\u001b[39m\u001b[33mFord\u001b[39m\u001b[33m\"\u001b[39m,\n\u001b[32m      3\u001b[39m   \u001b[33m\"\u001b[39m\u001b[33mmodel\u001b[39m\u001b[33m\"\u001b[39m: \u001b[33m\"\u001b[39m\u001b[33mMustang\u001b[39m\u001b[33m\"\u001b[39m,\n\u001b[32m      4\u001b[39m   \u001b[33m\"\u001b[39m\u001b[33myear\u001b[39m\u001b[33m\"\u001b[39m: \u001b[32m1964\u001b[39m\n\u001b[32m      5\u001b[39m }\n\u001b[32m----> \u001b[39m\u001b[32m6\u001b[39m \u001b[43mthis_dict\u001b[49m\u001b[43m.\u001b[49m\u001b[43mpop\u001b[49m\u001b[43m(\u001b[49m\u001b[43m)\u001b[49m\n\u001b[32m      7\u001b[39m \u001b[38;5;28mprint\u001b[39m(this_dict)\n",
      "\u001b[31mTypeError\u001b[39m: pop expected at least 1 argument, got 0"
     ]
    }
   ],
   "source": [
    "this_dict = {\n",
    "  \"brand\": \"Ford\",\n",
    "  \"model\": \"Mustang\",\n",
    "  \"year\": 1964\n",
    "}\n",
    "this_dict.pop(\"year\")\n",
    "print(this_dict)"
   ]
  },
  {
   "cell_type": "code",
   "execution_count": 198,
   "id": "713b75d2b6790194",
   "metadata": {
    "ExecuteTime": {
     "end_time": "2025-08-13T17:40:49.618643Z",
     "start_time": "2025-08-13T17:40:49.615470Z"
    },
    "collapsed": false
   },
   "outputs": [
    {
     "name": "stdout",
     "output_type": "stream",
     "text": [
      "{'brand': 'Ford', 'model': 'Mustang'}\n"
     ]
    }
   ],
   "source": [
    "this_dict = {\n",
    "  \"brand\": \"Ford\",\n",
    "  \"model\": \"Mustang\",\n",
    "  \"year\": 1964\n",
    "}\n",
    "this_dict.popitem()\n",
    "print(this_dict)"
   ]
  },
  {
   "cell_type": "code",
   "execution_count": 199,
   "id": "50644ed18121162",
   "metadata": {
    "ExecuteTime": {
     "end_time": "2025-08-13T17:41:44.718029Z",
     "start_time": "2025-08-13T17:41:44.710585Z"
    },
    "collapsed": false
   },
   "outputs": [
    {
     "name": "stdout",
     "output_type": "stream",
     "text": [
      "{'brand': 'Ford', 'year': 1964}\n"
     ]
    }
   ],
   "source": [
    "this_dict = {\n",
    "  \"brand\": \"Ford\",\n",
    "  \"model\": \"Mustang\",\n",
    "  \"year\": 1964\n",
    "}\n",
    "del this_dict[\"model\"]\n",
    "print(this_dict)"
   ]
  },
  {
   "cell_type": "code",
   "execution_count": 200,
   "id": "b31256e0ae3d2d6e",
   "metadata": {
    "ExecuteTime": {
     "end_time": "2025-08-13T17:42:03.936817Z",
     "start_time": "2025-08-13T17:42:03.914747Z"
    },
    "collapsed": false
   },
   "outputs": [
    {
     "ename": "NameError",
     "evalue": "name 'this_dict' is not defined",
     "output_type": "error",
     "traceback": [
      "\u001b[31m---------------------------------------------------------------------------\u001b[39m",
      "\u001b[31mNameError\u001b[39m                                 Traceback (most recent call last)",
      "\u001b[36mCell\u001b[39m\u001b[36m \u001b[39m\u001b[32mIn[200]\u001b[39m\u001b[32m, line 7\u001b[39m\n\u001b[32m      1\u001b[39m this_dict = {\n\u001b[32m      2\u001b[39m   \u001b[33m\"\u001b[39m\u001b[33mbrand\u001b[39m\u001b[33m\"\u001b[39m: \u001b[33m\"\u001b[39m\u001b[33mFord\u001b[39m\u001b[33m\"\u001b[39m,\n\u001b[32m      3\u001b[39m   \u001b[33m\"\u001b[39m\u001b[33mmodel\u001b[39m\u001b[33m\"\u001b[39m: \u001b[33m\"\u001b[39m\u001b[33mMustang\u001b[39m\u001b[33m\"\u001b[39m,\n\u001b[32m      4\u001b[39m   \u001b[33m\"\u001b[39m\u001b[33myear\u001b[39m\u001b[33m\"\u001b[39m: \u001b[32m1964\u001b[39m\n\u001b[32m      5\u001b[39m }\n\u001b[32m      6\u001b[39m \u001b[38;5;28;01mdel\u001b[39;00m this_dict\n\u001b[32m----> \u001b[39m\u001b[32m7\u001b[39m \u001b[38;5;28mprint\u001b[39m(\u001b[43mthis_dict\u001b[49m)\n",
      "\u001b[31mNameError\u001b[39m: name 'this_dict' is not defined"
     ]
    }
   ],
   "source": [
    "this_dict = {\n",
    "  \"brand\": \"Ford\",\n",
    "  \"model\": \"Mustang\",\n",
    "  \"year\": 1964\n",
    "}\n",
    "del this_dict\n",
    "print(this_dict)"
   ]
  },
  {
   "cell_type": "code",
   "execution_count": 201,
   "id": "363876804b26fae7",
   "metadata": {
    "ExecuteTime": {
     "end_time": "2025-08-13T17:42:52.098034Z",
     "start_time": "2025-08-13T17:42:52.091680Z"
    },
    "collapsed": false
   },
   "outputs": [
    {
     "name": "stdout",
     "output_type": "stream",
     "text": [
      "{}\n"
     ]
    }
   ],
   "source": [
    "this_dict = {\n",
    "  \"brand\": \"Ford\",\n",
    "  \"model\": \"Mustang\",\n",
    "  \"year\": 1964\n",
    "}\n",
    "this_dict.clear()\n",
    "print(this_dict)"
   ]
  },
  {
   "cell_type": "code",
   "execution_count": 202,
   "id": "6c621eb44472f3ad",
   "metadata": {
    "ExecuteTime": {
     "end_time": "2025-08-13T17:43:24.421646Z",
     "start_time": "2025-08-13T17:43:24.415549Z"
    },
    "collapsed": false
   },
   "outputs": [
    {
     "name": "stdout",
     "output_type": "stream",
     "text": [
      "brand\n",
      "model\n",
      "year\n"
     ]
    }
   ],
   "source": [
    "this_dict = {\n",
    "  \"brand\": \"Ford\",\n",
    "  \"model\": \"Mustang\",\n",
    "  \"year\": 1964\n",
    "}\n",
    "for x in this_dict:\n",
    "  print(x)"
   ]
  },
  {
   "cell_type": "code",
   "execution_count": 204,
   "id": "82f955856458281f",
   "metadata": {
    "ExecuteTime": {
     "end_time": "2025-08-13T17:44:04.660671Z",
     "start_time": "2025-08-13T17:44:04.650146Z"
    },
    "collapsed": false
   },
   "outputs": [
    {
     "name": "stdout",
     "output_type": "stream",
     "text": [
      "Ford\n",
      "Mustang\n",
      "1964\n"
     ]
    }
   ],
   "source": [
    "for x in this_dict:\n",
    "  print(this_dict[x])"
   ]
  },
  {
   "cell_type": "code",
   "execution_count": 206,
   "id": "bb681705ac36e76b",
   "metadata": {
    "ExecuteTime": {
     "end_time": "2025-08-13T17:44:21.312166Z",
     "start_time": "2025-08-13T17:44:21.307799Z"
    },
    "collapsed": false
   },
   "outputs": [
    {
     "name": "stdout",
     "output_type": "stream",
     "text": [
      "Ford\n",
      "Mustang\n",
      "1964\n"
     ]
    }
   ],
   "source": [
    "for x in this_dict.values():\n",
    "  print(x)"
   ]
  },
  {
   "cell_type": "code",
   "execution_count": 207,
   "id": "3c5f07e67f082ece",
   "metadata": {
    "ExecuteTime": {
     "end_time": "2025-08-13T17:44:34.463215Z",
     "start_time": "2025-08-13T17:44:34.457182Z"
    },
    "collapsed": false
   },
   "outputs": [
    {
     "name": "stdout",
     "output_type": "stream",
     "text": [
      "brand\n",
      "model\n",
      "year\n"
     ]
    }
   ],
   "source": [
    "for x in this_dict.keys():\n",
    "  print(x)"
   ]
  },
  {
   "cell_type": "code",
   "execution_count": 209,
   "id": "695b004981e2875f",
   "metadata": {
    "ExecuteTime": {
     "end_time": "2025-08-13T17:44:51.408548Z",
     "start_time": "2025-08-13T17:44:51.404517Z"
    },
    "collapsed": false
   },
   "outputs": [
    {
     "name": "stdout",
     "output_type": "stream",
     "text": [
      "brand Ford\n",
      "model Mustang\n",
      "year 1964\n"
     ]
    }
   ],
   "source": [
    "for x, y in this_dict.items():\n",
    "  print(x, y)"
   ]
  },
  {
   "cell_type": "code",
   "execution_count": 210,
   "id": "83a23d49e62c6372",
   "metadata": {
    "ExecuteTime": {
     "end_time": "2025-08-13T17:45:14.366714Z",
     "start_time": "2025-08-13T17:45:14.361756Z"
    },
    "collapsed": false
   },
   "outputs": [
    {
     "name": "stdout",
     "output_type": "stream",
     "text": [
      "{'brand': 'Ford', 'model': 'Mustang', 'year': 1964}\n"
     ]
    }
   ],
   "source": [
    "this_dict = {\n",
    "  \"brand\": \"Ford\",\n",
    "  \"model\": \"Mustang\",\n",
    "  \"year\": 1964\n",
    "}\n",
    "mydict = this_dict.copy()\n",
    "print(mydict)"
   ]
  },
  {
   "cell_type": "code",
   "execution_count": 211,
   "id": "8afae9e5420bc72b",
   "metadata": {
    "ExecuteTime": {
     "end_time": "2025-08-13T17:45:36.512295Z",
     "start_time": "2025-08-13T17:45:36.504808Z"
    },
    "collapsed": false
   },
   "outputs": [
    {
     "name": "stdout",
     "output_type": "stream",
     "text": [
      "{'brand': 'Ford', 'model': 'Mustang', 'year': 1964}\n"
     ]
    }
   ],
   "source": [
    "this_dict = {\n",
    "  \"brand\": \"Ford\",\n",
    "  \"model\": \"Mustang\",\n",
    "  \"year\": 1964\n",
    "}\n",
    "mydict = dict(this_dict)\n",
    "print(mydict)"
   ]
  },
  {
   "cell_type": "code",
   "execution_count": 214,
   "id": "30a2bb17d3c022c",
   "metadata": {
    "ExecuteTime": {
     "end_time": "2025-08-13T17:47:19.639759Z",
     "start_time": "2025-08-13T17:47:19.630639Z"
    },
    "collapsed": false
   },
   "outputs": [
    {
     "name": "stdout",
     "output_type": "stream",
     "text": [
      "{'child1': {'name': 'Emil', 'year': 2004}, 'child2': {'name': 'Tobias', 'year': 2007}, 'child3': {'name': 'Linus', 'year': 2011}}\n",
      "{'name': 'Emil', 'year': 2004}\n",
      "Emil\n"
     ]
    }
   ],
   "source": [
    "my_family = {\n",
    "  \"child1\" : {\n",
    "    \"name\" : \"Emil\",\n",
    "    \"year\" : 2004\n",
    "  },\n",
    "  \"child2\" : {\n",
    "    \"name\" : \"Tobias\",\n",
    "    \"year\" : 2007\n",
    "  },\n",
    "  \"child3\" : {\n",
    "    \"name\" : \"Linus\",\n",
    "    \"year\" : 2011\n",
    "  }\n",
    "}\n",
    "print(my_family)\n",
    "print(my_family[\"child1\"])\n",
    "print(my_family[\"child1\"][\"name\"])"
   ]
  },
  {
   "cell_type": "code",
   "execution_count": 216,
   "id": "df1be420b8691bea",
   "metadata": {
    "ExecuteTime": {
     "end_time": "2025-08-13T17:47:57.525421Z",
     "start_time": "2025-08-13T17:47:57.521581Z"
    },
    "collapsed": false
   },
   "outputs": [
    {
     "name": "stdout",
     "output_type": "stream",
     "text": [
      "{'child1': {'name': 'Emil', 'year': 2004}, 'child2': {'name': 'Tobias', 'year': 2007}, 'child3': {'name': 'Linus', 'year': 2011}}\n"
     ]
    }
   ],
   "source": [
    "child1 = {\n",
    "  \"name\" : \"Emil\",\n",
    "  \"year\" : 2004\n",
    "}\n",
    "child2 = {\n",
    "  \"name\" : \"Tobias\",\n",
    "  \"year\" : 2007\n",
    "}\n",
    "child3 = {\n",
    "  \"name\" : \"Linus\",\n",
    "  \"year\" : 2011\n",
    "}\n",
    "\n",
    "myfamily = {\n",
    "  \"child1\" : child1,\n",
    "  \"child2\" : child2,\n",
    "  \"child3\" : child3\n",
    "}\n",
    "print(myfamily)"
   ]
  },
  {
   "cell_type": "code",
   "execution_count": 217,
   "id": "b507b52b78260d33",
   "metadata": {
    "ExecuteTime": {
     "end_time": "2025-08-13T17:48:15.597631Z",
     "start_time": "2025-08-13T17:48:15.592815Z"
    },
    "collapsed": false
   },
   "outputs": [
    {
     "name": "stdout",
     "output_type": "stream",
     "text": [
      "child1\n",
      "name: Emil\n",
      "year: 2004\n",
      "child2\n",
      "name: Tobias\n",
      "year: 2007\n",
      "child3\n",
      "name: Linus\n",
      "year: 2011\n"
     ]
    }
   ],
   "source": [
    "for x, obj in myfamily.items():\n",
    "  print(x)\n",
    "  for y in obj:\n",
    "    print(y + ':', obj[y])"
   ]
  },
  {
   "cell_type": "code",
   "execution_count": null,
   "id": "b974a2e8e3a45c91",
   "metadata": {
    "collapsed": false
   },
   "outputs": [],
   "source": []
  }
 ],
 "metadata": {
  "kernelspec": {
   "display_name": "Python 3",
   "language": "python",
   "name": "python3"
  },
  "language_info": {
   "codemirror_mode": {
    "name": "ipython",
    "version": 2
   },
   "file_extension": ".py",
   "mimetype": "text/x-python",
   "name": "python",
   "nbconvert_exporter": "python",
   "pygments_lexer": "ipython2",
   "version": "2.7.6"
  }
 },
 "nbformat": 4,
 "nbformat_minor": 5
}
